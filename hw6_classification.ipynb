{
  "cells": [
    {
      "cell_type": "markdown",
      "metadata": {
        "id": "Ffq6A2-ifzAA"
      },
      "source": [
        "# Интеллектуальный анализ данных – весна 2024\n",
        "# Домашнее задание 6: классификация текстов"
      ]
    },
    {
      "cell_type": "markdown",
      "source": [
        "Правила:\n",
        "\n",
        "\n",
        "\n",
        "*   Домашнее задание оценивается в 10 баллов.\n",
        "*   Можно использовать без доказательства любые результаты, встречавшиеся на лекциях или семинарах по курсу, если получение этих результатов не является вопросом задания.\n",
        "*  Можно использовать любые свободные источники с *обязательным* указанием ссылки на них.\n",
        "*  Плагиат не допускается. При обнаружении случаев списывания, 0 за работу выставляется всем участникам нарушения, даже если можно установить, кто у кого списал.\n",
        "*  Старайтесь сделать код как можно более оптимальным. В частности, будет штрафоваться использование циклов в тех случаях, когда операцию можно совершить при помощи инструментов библиотек, о которых рассказывалось в курсе."
      ],
      "metadata": {
        "id": "EPcxtekTA1Sm"
      }
    },
    {
      "cell_type": "markdown",
      "metadata": {
        "id": "itRtFtrOf0_b"
      },
      "source": [
        "В этом домашнем задании вам предстоит построить классификатор текстов.\n",
        "\n",
        "Будем предсказывать эмоциональную окраску твиттов о коронавирусе.\n",
        "\n"
      ]
    },
    {
      "cell_type": "code",
      "execution_count": null,
      "metadata": {
        "id": "tNGRVO7_g9mz"
      },
      "outputs": [],
      "source": [
        "import numpy as np\n",
        "import pandas as pd\n",
        "from typing import  List\n",
        "import matplotlib.pyplot as plt\n",
        "import seaborn as sns\n",
        "from string import punctuation"
      ]
    },
    {
      "cell_type": "code",
      "source": [
        "import warnings\n",
        "warnings.filterwarnings('ignore')"
      ],
      "metadata": {
        "id": "NHGVnnHcp6Tc"
      },
      "execution_count": null,
      "outputs": []
    },
    {
      "cell_type": "code",
      "execution_count": null,
      "metadata": {
        "id": "zOy8iHJQg_Ss",
        "colab": {
          "base_uri": "https://localhost:8080/",
          "height": 204
        },
        "outputId": "6a9aaab5-4cad-45f7-fdc0-12095b99ca23"
      },
      "outputs": [
        {
          "output_type": "execute_result",
          "data": {
            "text/plain": [
              "   UserName  ScreenName                     Location     TweetAt  \\\n",
              "0      3800       48752                           UK  16-03-2020   \n",
              "1      3801       48753                    Vagabonds  16-03-2020   \n",
              "2      3802       48754                          NaN  16-03-2020   \n",
              "3      3803       48755                          NaN  16-03-2020   \n",
              "4      3804       48756  ÃÂT: 36.319708,-82.363649  16-03-2020   \n",
              "\n",
              "                                       OriginalTweet           Sentiment  \n",
              "0  advice Talk to your neighbours family to excha...            Positive  \n",
              "1  Coronavirus Australia: Woolworths to give elde...            Positive  \n",
              "2  My food stock is not the only one which is emp...            Positive  \n",
              "3  Me, ready to go at supermarket during the #COV...  Extremely Negative  \n",
              "4  As news of the regionÃÂs first confirmed COV...            Positive  "
            ],
            "text/html": [
              "\n",
              "  <div id=\"df-91b5539c-28a5-47bc-a65b-c17f00673a40\" class=\"colab-df-container\">\n",
              "    <div>\n",
              "<style scoped>\n",
              "    .dataframe tbody tr th:only-of-type {\n",
              "        vertical-align: middle;\n",
              "    }\n",
              "\n",
              "    .dataframe tbody tr th {\n",
              "        vertical-align: top;\n",
              "    }\n",
              "\n",
              "    .dataframe thead th {\n",
              "        text-align: right;\n",
              "    }\n",
              "</style>\n",
              "<table border=\"1\" class=\"dataframe\">\n",
              "  <thead>\n",
              "    <tr style=\"text-align: right;\">\n",
              "      <th></th>\n",
              "      <th>UserName</th>\n",
              "      <th>ScreenName</th>\n",
              "      <th>Location</th>\n",
              "      <th>TweetAt</th>\n",
              "      <th>OriginalTweet</th>\n",
              "      <th>Sentiment</th>\n",
              "    </tr>\n",
              "  </thead>\n",
              "  <tbody>\n",
              "    <tr>\n",
              "      <th>0</th>\n",
              "      <td>3800</td>\n",
              "      <td>48752</td>\n",
              "      <td>UK</td>\n",
              "      <td>16-03-2020</td>\n",
              "      <td>advice Talk to your neighbours family to excha...</td>\n",
              "      <td>Positive</td>\n",
              "    </tr>\n",
              "    <tr>\n",
              "      <th>1</th>\n",
              "      <td>3801</td>\n",
              "      <td>48753</td>\n",
              "      <td>Vagabonds</td>\n",
              "      <td>16-03-2020</td>\n",
              "      <td>Coronavirus Australia: Woolworths to give elde...</td>\n",
              "      <td>Positive</td>\n",
              "    </tr>\n",
              "    <tr>\n",
              "      <th>2</th>\n",
              "      <td>3802</td>\n",
              "      <td>48754</td>\n",
              "      <td>NaN</td>\n",
              "      <td>16-03-2020</td>\n",
              "      <td>My food stock is not the only one which is emp...</td>\n",
              "      <td>Positive</td>\n",
              "    </tr>\n",
              "    <tr>\n",
              "      <th>3</th>\n",
              "      <td>3803</td>\n",
              "      <td>48755</td>\n",
              "      <td>NaN</td>\n",
              "      <td>16-03-2020</td>\n",
              "      <td>Me, ready to go at supermarket during the #COV...</td>\n",
              "      <td>Extremely Negative</td>\n",
              "    </tr>\n",
              "    <tr>\n",
              "      <th>4</th>\n",
              "      <td>3804</td>\n",
              "      <td>48756</td>\n",
              "      <td>ÃÂT: 36.319708,-82.363649</td>\n",
              "      <td>16-03-2020</td>\n",
              "      <td>As news of the regionÃÂs first confirmed COV...</td>\n",
              "      <td>Positive</td>\n",
              "    </tr>\n",
              "  </tbody>\n",
              "</table>\n",
              "</div>\n",
              "    <div class=\"colab-df-buttons\">\n",
              "\n",
              "  <div class=\"colab-df-container\">\n",
              "    <button class=\"colab-df-convert\" onclick=\"convertToInteractive('df-91b5539c-28a5-47bc-a65b-c17f00673a40')\"\n",
              "            title=\"Convert this dataframe to an interactive table.\"\n",
              "            style=\"display:none;\">\n",
              "\n",
              "  <svg xmlns=\"http://www.w3.org/2000/svg\" height=\"24px\" viewBox=\"0 -960 960 960\">\n",
              "    <path d=\"M120-120v-720h720v720H120Zm60-500h600v-160H180v160Zm220 220h160v-160H400v160Zm0 220h160v-160H400v160ZM180-400h160v-160H180v160Zm440 0h160v-160H620v160ZM180-180h160v-160H180v160Zm440 0h160v-160H620v160Z\"/>\n",
              "  </svg>\n",
              "    </button>\n",
              "\n",
              "  <style>\n",
              "    .colab-df-container {\n",
              "      display:flex;\n",
              "      gap: 12px;\n",
              "    }\n",
              "\n",
              "    .colab-df-convert {\n",
              "      background-color: #E8F0FE;\n",
              "      border: none;\n",
              "      border-radius: 50%;\n",
              "      cursor: pointer;\n",
              "      display: none;\n",
              "      fill: #1967D2;\n",
              "      height: 32px;\n",
              "      padding: 0 0 0 0;\n",
              "      width: 32px;\n",
              "    }\n",
              "\n",
              "    .colab-df-convert:hover {\n",
              "      background-color: #E2EBFA;\n",
              "      box-shadow: 0px 1px 2px rgba(60, 64, 67, 0.3), 0px 1px 3px 1px rgba(60, 64, 67, 0.15);\n",
              "      fill: #174EA6;\n",
              "    }\n",
              "\n",
              "    .colab-df-buttons div {\n",
              "      margin-bottom: 4px;\n",
              "    }\n",
              "\n",
              "    [theme=dark] .colab-df-convert {\n",
              "      background-color: #3B4455;\n",
              "      fill: #D2E3FC;\n",
              "    }\n",
              "\n",
              "    [theme=dark] .colab-df-convert:hover {\n",
              "      background-color: #434B5C;\n",
              "      box-shadow: 0px 1px 3px 1px rgba(0, 0, 0, 0.15);\n",
              "      filter: drop-shadow(0px 1px 2px rgba(0, 0, 0, 0.3));\n",
              "      fill: #FFFFFF;\n",
              "    }\n",
              "  </style>\n",
              "\n",
              "    <script>\n",
              "      const buttonEl =\n",
              "        document.querySelector('#df-91b5539c-28a5-47bc-a65b-c17f00673a40 button.colab-df-convert');\n",
              "      buttonEl.style.display =\n",
              "        google.colab.kernel.accessAllowed ? 'block' : 'none';\n",
              "\n",
              "      async function convertToInteractive(key) {\n",
              "        const element = document.querySelector('#df-91b5539c-28a5-47bc-a65b-c17f00673a40');\n",
              "        const dataTable =\n",
              "          await google.colab.kernel.invokeFunction('convertToInteractive',\n",
              "                                                    [key], {});\n",
              "        if (!dataTable) return;\n",
              "\n",
              "        const docLinkHtml = 'Like what you see? Visit the ' +\n",
              "          '<a target=\"_blank\" href=https://colab.research.google.com/notebooks/data_table.ipynb>data table notebook</a>'\n",
              "          + ' to learn more about interactive tables.';\n",
              "        element.innerHTML = '';\n",
              "        dataTable['output_type'] = 'display_data';\n",
              "        await google.colab.output.renderOutput(dataTable, element);\n",
              "        const docLink = document.createElement('div');\n",
              "        docLink.innerHTML = docLinkHtml;\n",
              "        element.appendChild(docLink);\n",
              "      }\n",
              "    </script>\n",
              "  </div>\n",
              "\n",
              "\n",
              "<div id=\"df-525c0d5f-2dab-4c16-9834-e610a820d802\">\n",
              "  <button class=\"colab-df-quickchart\" onclick=\"quickchart('df-525c0d5f-2dab-4c16-9834-e610a820d802')\"\n",
              "            title=\"Suggest charts\"\n",
              "            style=\"display:none;\">\n",
              "\n",
              "<svg xmlns=\"http://www.w3.org/2000/svg\" height=\"24px\"viewBox=\"0 0 24 24\"\n",
              "     width=\"24px\">\n",
              "    <g>\n",
              "        <path d=\"M19 3H5c-1.1 0-2 .9-2 2v14c0 1.1.9 2 2 2h14c1.1 0 2-.9 2-2V5c0-1.1-.9-2-2-2zM9 17H7v-7h2v7zm4 0h-2V7h2v10zm4 0h-2v-4h2v4z\"/>\n",
              "    </g>\n",
              "</svg>\n",
              "  </button>\n",
              "\n",
              "<style>\n",
              "  .colab-df-quickchart {\n",
              "      --bg-color: #E8F0FE;\n",
              "      --fill-color: #1967D2;\n",
              "      --hover-bg-color: #E2EBFA;\n",
              "      --hover-fill-color: #174EA6;\n",
              "      --disabled-fill-color: #AAA;\n",
              "      --disabled-bg-color: #DDD;\n",
              "  }\n",
              "\n",
              "  [theme=dark] .colab-df-quickchart {\n",
              "      --bg-color: #3B4455;\n",
              "      --fill-color: #D2E3FC;\n",
              "      --hover-bg-color: #434B5C;\n",
              "      --hover-fill-color: #FFFFFF;\n",
              "      --disabled-bg-color: #3B4455;\n",
              "      --disabled-fill-color: #666;\n",
              "  }\n",
              "\n",
              "  .colab-df-quickchart {\n",
              "    background-color: var(--bg-color);\n",
              "    border: none;\n",
              "    border-radius: 50%;\n",
              "    cursor: pointer;\n",
              "    display: none;\n",
              "    fill: var(--fill-color);\n",
              "    height: 32px;\n",
              "    padding: 0;\n",
              "    width: 32px;\n",
              "  }\n",
              "\n",
              "  .colab-df-quickchart:hover {\n",
              "    background-color: var(--hover-bg-color);\n",
              "    box-shadow: 0 1px 2px rgba(60, 64, 67, 0.3), 0 1px 3px 1px rgba(60, 64, 67, 0.15);\n",
              "    fill: var(--button-hover-fill-color);\n",
              "  }\n",
              "\n",
              "  .colab-df-quickchart-complete:disabled,\n",
              "  .colab-df-quickchart-complete:disabled:hover {\n",
              "    background-color: var(--disabled-bg-color);\n",
              "    fill: var(--disabled-fill-color);\n",
              "    box-shadow: none;\n",
              "  }\n",
              "\n",
              "  .colab-df-spinner {\n",
              "    border: 2px solid var(--fill-color);\n",
              "    border-color: transparent;\n",
              "    border-bottom-color: var(--fill-color);\n",
              "    animation:\n",
              "      spin 1s steps(1) infinite;\n",
              "  }\n",
              "\n",
              "  @keyframes spin {\n",
              "    0% {\n",
              "      border-color: transparent;\n",
              "      border-bottom-color: var(--fill-color);\n",
              "      border-left-color: var(--fill-color);\n",
              "    }\n",
              "    20% {\n",
              "      border-color: transparent;\n",
              "      border-left-color: var(--fill-color);\n",
              "      border-top-color: var(--fill-color);\n",
              "    }\n",
              "    30% {\n",
              "      border-color: transparent;\n",
              "      border-left-color: var(--fill-color);\n",
              "      border-top-color: var(--fill-color);\n",
              "      border-right-color: var(--fill-color);\n",
              "    }\n",
              "    40% {\n",
              "      border-color: transparent;\n",
              "      border-right-color: var(--fill-color);\n",
              "      border-top-color: var(--fill-color);\n",
              "    }\n",
              "    60% {\n",
              "      border-color: transparent;\n",
              "      border-right-color: var(--fill-color);\n",
              "    }\n",
              "    80% {\n",
              "      border-color: transparent;\n",
              "      border-right-color: var(--fill-color);\n",
              "      border-bottom-color: var(--fill-color);\n",
              "    }\n",
              "    90% {\n",
              "      border-color: transparent;\n",
              "      border-bottom-color: var(--fill-color);\n",
              "    }\n",
              "  }\n",
              "</style>\n",
              "\n",
              "  <script>\n",
              "    async function quickchart(key) {\n",
              "      const quickchartButtonEl =\n",
              "        document.querySelector('#' + key + ' button');\n",
              "      quickchartButtonEl.disabled = true;  // To prevent multiple clicks.\n",
              "      quickchartButtonEl.classList.add('colab-df-spinner');\n",
              "      try {\n",
              "        const charts = await google.colab.kernel.invokeFunction(\n",
              "            'suggestCharts', [key], {});\n",
              "      } catch (error) {\n",
              "        console.error('Error during call to suggestCharts:', error);\n",
              "      }\n",
              "      quickchartButtonEl.classList.remove('colab-df-spinner');\n",
              "      quickchartButtonEl.classList.add('colab-df-quickchart-complete');\n",
              "    }\n",
              "    (() => {\n",
              "      let quickchartButtonEl =\n",
              "        document.querySelector('#df-525c0d5f-2dab-4c16-9834-e610a820d802 button');\n",
              "      quickchartButtonEl.style.display =\n",
              "        google.colab.kernel.accessAllowed ? 'block' : 'none';\n",
              "    })();\n",
              "  </script>\n",
              "</div>\n",
              "    </div>\n",
              "  </div>\n"
            ],
            "application/vnd.google.colaboratory.intrinsic+json": {
              "type": "dataframe",
              "variable_name": "df",
              "summary": "{\n  \"name\": \"df\",\n  \"rows\": 33444,\n  \"fields\": [\n    {\n      \"column\": \"UserName\",\n      \"properties\": {\n        \"dtype\": \"number\",\n        \"std\": 11875,\n        \"min\": 3800,\n        \"max\": 44955,\n        \"num_unique_values\": 33444,\n        \"samples\": [\n          33995,\n          17124,\n          18421\n        ],\n        \"semantic_type\": \"\",\n        \"description\": \"\"\n      }\n    },\n    {\n      \"column\": \"ScreenName\",\n      \"properties\": {\n        \"dtype\": \"number\",\n        \"std\": 11875,\n        \"min\": 48752,\n        \"max\": 89907,\n        \"num_unique_values\": 33444,\n        \"samples\": [\n          78947,\n          62076,\n          63373\n        ],\n        \"semantic_type\": \"\",\n        \"description\": \"\"\n      }\n    },\n    {\n      \"column\": \"Location\",\n      \"properties\": {\n        \"dtype\": \"category\",\n        \"num_unique_values\": 10465,\n        \"samples\": [\n          \"Kitchener | Ontario | Canada\",\n          \"Montr\\u00c3\\u0083\\u00c2\\u00a9al\",\n          \"England. Germany.\"\n        ],\n        \"semantic_type\": \"\",\n        \"description\": \"\"\n      }\n    },\n    {\n      \"column\": \"TweetAt\",\n      \"properties\": {\n        \"dtype\": \"object\",\n        \"num_unique_values\": 30,\n        \"samples\": [\n          \"12-04-2020\",\n          \"31-03-2020\",\n          \"08-04-2020\"\n        ],\n        \"semantic_type\": \"\",\n        \"description\": \"\"\n      }\n    },\n    {\n      \"column\": \"OriginalTweet\",\n      \"properties\": {\n        \"dtype\": \"string\",\n        \"num_unique_values\": 33444,\n        \"samples\": [\n          \"US death toll is way less than estimated. This I hope will bring back consumer confidence #coronavirus #Covid_19 #CoronavirusUSA\",\n          \"We will get through this by people helping people and not stock piling food and toiletries, selfish pricks #Covid_19\",\n          \"#rice prices soar to two-year high, traders blame it on #coronavirus panic buying, writes #YasirWardad https://t.co/hIXzS1DKdo #FE via @febdonline\"\n        ],\n        \"semantic_type\": \"\",\n        \"description\": \"\"\n      }\n    },\n    {\n      \"column\": \"Sentiment\",\n      \"properties\": {\n        \"dtype\": \"category\",\n        \"num_unique_values\": 4,\n        \"samples\": [\n          \"Extremely Negative\",\n          \"Extremely Positive\",\n          \"Positive\"\n        ],\n        \"semantic_type\": \"\",\n        \"description\": \"\"\n      }\n    }\n  ]\n}"
            }
          },
          "metadata": {},
          "execution_count": 3
        }
      ],
      "source": [
        "df = pd.read_csv('/content/tweets_coronavirus.csv', encoding='latin-1')\n",
        "df.head()"
      ]
    },
    {
      "cell_type": "markdown",
      "metadata": {
        "id": "m2OiDog9ZBlS"
      },
      "source": [
        "Для каждого твитта указано:\n",
        "\n",
        "\n",
        "*   UserName - имя пользователя, заменено на целое число для анонимности\n",
        "*   ScreenName - отображающееся имя пользователя, заменено на целое число для анонимности\n",
        "*   Location - местоположение\n",
        "*   TweetAt - дата создания твитта\n",
        "*   OriginalTweet - текст твитта\n",
        "*   Sentiment - эмоциональная окраска твитта (целевая переменная)\n",
        "\n"
      ]
    },
    {
      "cell_type": "markdown",
      "metadata": {
        "id": "pZTMseDkhTC7"
      },
      "source": [
        "## Задание 1 Подготовка (0.5 балла)"
      ]
    },
    {
      "cell_type": "markdown",
      "metadata": {
        "id": "Xx2-odn9hdAW"
      },
      "source": [
        "Целевая переменная находится в колонке `Sentiment`.  Преобразуйте ее таким образом, чтобы она стала бинарной: 1 - если у твитта положительная эмоциональная окраска и 0 - если отрицательная."
      ]
    },
    {
      "cell_type": "code",
      "source": [
        "df.Sentiment.unique() #смотрим значения эмоциональных окрасок в категории"
      ],
      "metadata": {
        "colab": {
          "base_uri": "https://localhost:8080/"
        },
        "id": "wHWkdKwUR6zc",
        "outputId": "ed180410-58be-42bb-8ff4-c776560e02b2"
      },
      "execution_count": null,
      "outputs": [
        {
          "output_type": "execute_result",
          "data": {
            "text/plain": [
              "array(['Positive', 'Extremely Negative', 'Negative', 'Extremely Positive'],\n",
              "      dtype=object)"
            ]
          },
          "metadata": {},
          "execution_count": 4
        }
      ]
    },
    {
      "cell_type": "code",
      "execution_count": null,
      "metadata": {
        "id": "ZaQKQ1zEjP15",
        "colab": {
          "base_uri": "https://localhost:8080/",
          "height": 204
        },
        "outputId": "cc651293-5c4a-494d-ee2c-1867125743d7"
      },
      "outputs": [
        {
          "output_type": "execute_result",
          "data": {
            "text/plain": [
              "   UserName  ScreenName                     Location     TweetAt  \\\n",
              "0      3800       48752                           UK  16-03-2020   \n",
              "1      3801       48753                    Vagabonds  16-03-2020   \n",
              "2      3802       48754                          NaN  16-03-2020   \n",
              "3      3803       48755                          NaN  16-03-2020   \n",
              "4      3804       48756  ÃÂT: 36.319708,-82.363649  16-03-2020   \n",
              "\n",
              "                                       OriginalTweet  Sentiment  \n",
              "0  advice Talk to your neighbours family to excha...          1  \n",
              "1  Coronavirus Australia: Woolworths to give elde...          1  \n",
              "2  My food stock is not the only one which is emp...          1  \n",
              "3  Me, ready to go at supermarket during the #COV...          0  \n",
              "4  As news of the regionÃÂs first confirmed COV...          1  "
            ],
            "text/html": [
              "\n",
              "  <div id=\"df-77128e4f-5da0-4e7a-847a-d84af5cac727\" class=\"colab-df-container\">\n",
              "    <div>\n",
              "<style scoped>\n",
              "    .dataframe tbody tr th:only-of-type {\n",
              "        vertical-align: middle;\n",
              "    }\n",
              "\n",
              "    .dataframe tbody tr th {\n",
              "        vertical-align: top;\n",
              "    }\n",
              "\n",
              "    .dataframe thead th {\n",
              "        text-align: right;\n",
              "    }\n",
              "</style>\n",
              "<table border=\"1\" class=\"dataframe\">\n",
              "  <thead>\n",
              "    <tr style=\"text-align: right;\">\n",
              "      <th></th>\n",
              "      <th>UserName</th>\n",
              "      <th>ScreenName</th>\n",
              "      <th>Location</th>\n",
              "      <th>TweetAt</th>\n",
              "      <th>OriginalTweet</th>\n",
              "      <th>Sentiment</th>\n",
              "    </tr>\n",
              "  </thead>\n",
              "  <tbody>\n",
              "    <tr>\n",
              "      <th>0</th>\n",
              "      <td>3800</td>\n",
              "      <td>48752</td>\n",
              "      <td>UK</td>\n",
              "      <td>16-03-2020</td>\n",
              "      <td>advice Talk to your neighbours family to excha...</td>\n",
              "      <td>1</td>\n",
              "    </tr>\n",
              "    <tr>\n",
              "      <th>1</th>\n",
              "      <td>3801</td>\n",
              "      <td>48753</td>\n",
              "      <td>Vagabonds</td>\n",
              "      <td>16-03-2020</td>\n",
              "      <td>Coronavirus Australia: Woolworths to give elde...</td>\n",
              "      <td>1</td>\n",
              "    </tr>\n",
              "    <tr>\n",
              "      <th>2</th>\n",
              "      <td>3802</td>\n",
              "      <td>48754</td>\n",
              "      <td>NaN</td>\n",
              "      <td>16-03-2020</td>\n",
              "      <td>My food stock is not the only one which is emp...</td>\n",
              "      <td>1</td>\n",
              "    </tr>\n",
              "    <tr>\n",
              "      <th>3</th>\n",
              "      <td>3803</td>\n",
              "      <td>48755</td>\n",
              "      <td>NaN</td>\n",
              "      <td>16-03-2020</td>\n",
              "      <td>Me, ready to go at supermarket during the #COV...</td>\n",
              "      <td>0</td>\n",
              "    </tr>\n",
              "    <tr>\n",
              "      <th>4</th>\n",
              "      <td>3804</td>\n",
              "      <td>48756</td>\n",
              "      <td>ÃÂT: 36.319708,-82.363649</td>\n",
              "      <td>16-03-2020</td>\n",
              "      <td>As news of the regionÃÂs first confirmed COV...</td>\n",
              "      <td>1</td>\n",
              "    </tr>\n",
              "  </tbody>\n",
              "</table>\n",
              "</div>\n",
              "    <div class=\"colab-df-buttons\">\n",
              "\n",
              "  <div class=\"colab-df-container\">\n",
              "    <button class=\"colab-df-convert\" onclick=\"convertToInteractive('df-77128e4f-5da0-4e7a-847a-d84af5cac727')\"\n",
              "            title=\"Convert this dataframe to an interactive table.\"\n",
              "            style=\"display:none;\">\n",
              "\n",
              "  <svg xmlns=\"http://www.w3.org/2000/svg\" height=\"24px\" viewBox=\"0 -960 960 960\">\n",
              "    <path d=\"M120-120v-720h720v720H120Zm60-500h600v-160H180v160Zm220 220h160v-160H400v160Zm0 220h160v-160H400v160ZM180-400h160v-160H180v160Zm440 0h160v-160H620v160ZM180-180h160v-160H180v160Zm440 0h160v-160H620v160Z\"/>\n",
              "  </svg>\n",
              "    </button>\n",
              "\n",
              "  <style>\n",
              "    .colab-df-container {\n",
              "      display:flex;\n",
              "      gap: 12px;\n",
              "    }\n",
              "\n",
              "    .colab-df-convert {\n",
              "      background-color: #E8F0FE;\n",
              "      border: none;\n",
              "      border-radius: 50%;\n",
              "      cursor: pointer;\n",
              "      display: none;\n",
              "      fill: #1967D2;\n",
              "      height: 32px;\n",
              "      padding: 0 0 0 0;\n",
              "      width: 32px;\n",
              "    }\n",
              "\n",
              "    .colab-df-convert:hover {\n",
              "      background-color: #E2EBFA;\n",
              "      box-shadow: 0px 1px 2px rgba(60, 64, 67, 0.3), 0px 1px 3px 1px rgba(60, 64, 67, 0.15);\n",
              "      fill: #174EA6;\n",
              "    }\n",
              "\n",
              "    .colab-df-buttons div {\n",
              "      margin-bottom: 4px;\n",
              "    }\n",
              "\n",
              "    [theme=dark] .colab-df-convert {\n",
              "      background-color: #3B4455;\n",
              "      fill: #D2E3FC;\n",
              "    }\n",
              "\n",
              "    [theme=dark] .colab-df-convert:hover {\n",
              "      background-color: #434B5C;\n",
              "      box-shadow: 0px 1px 3px 1px rgba(0, 0, 0, 0.15);\n",
              "      filter: drop-shadow(0px 1px 2px rgba(0, 0, 0, 0.3));\n",
              "      fill: #FFFFFF;\n",
              "    }\n",
              "  </style>\n",
              "\n",
              "    <script>\n",
              "      const buttonEl =\n",
              "        document.querySelector('#df-77128e4f-5da0-4e7a-847a-d84af5cac727 button.colab-df-convert');\n",
              "      buttonEl.style.display =\n",
              "        google.colab.kernel.accessAllowed ? 'block' : 'none';\n",
              "\n",
              "      async function convertToInteractive(key) {\n",
              "        const element = document.querySelector('#df-77128e4f-5da0-4e7a-847a-d84af5cac727');\n",
              "        const dataTable =\n",
              "          await google.colab.kernel.invokeFunction('convertToInteractive',\n",
              "                                                    [key], {});\n",
              "        if (!dataTable) return;\n",
              "\n",
              "        const docLinkHtml = 'Like what you see? Visit the ' +\n",
              "          '<a target=\"_blank\" href=https://colab.research.google.com/notebooks/data_table.ipynb>data table notebook</a>'\n",
              "          + ' to learn more about interactive tables.';\n",
              "        element.innerHTML = '';\n",
              "        dataTable['output_type'] = 'display_data';\n",
              "        await google.colab.output.renderOutput(dataTable, element);\n",
              "        const docLink = document.createElement('div');\n",
              "        docLink.innerHTML = docLinkHtml;\n",
              "        element.appendChild(docLink);\n",
              "      }\n",
              "    </script>\n",
              "  </div>\n",
              "\n",
              "\n",
              "<div id=\"df-385fb24b-5f6d-4e5f-ae63-73b9a0630363\">\n",
              "  <button class=\"colab-df-quickchart\" onclick=\"quickchart('df-385fb24b-5f6d-4e5f-ae63-73b9a0630363')\"\n",
              "            title=\"Suggest charts\"\n",
              "            style=\"display:none;\">\n",
              "\n",
              "<svg xmlns=\"http://www.w3.org/2000/svg\" height=\"24px\"viewBox=\"0 0 24 24\"\n",
              "     width=\"24px\">\n",
              "    <g>\n",
              "        <path d=\"M19 3H5c-1.1 0-2 .9-2 2v14c0 1.1.9 2 2 2h14c1.1 0 2-.9 2-2V5c0-1.1-.9-2-2-2zM9 17H7v-7h2v7zm4 0h-2V7h2v10zm4 0h-2v-4h2v4z\"/>\n",
              "    </g>\n",
              "</svg>\n",
              "  </button>\n",
              "\n",
              "<style>\n",
              "  .colab-df-quickchart {\n",
              "      --bg-color: #E8F0FE;\n",
              "      --fill-color: #1967D2;\n",
              "      --hover-bg-color: #E2EBFA;\n",
              "      --hover-fill-color: #174EA6;\n",
              "      --disabled-fill-color: #AAA;\n",
              "      --disabled-bg-color: #DDD;\n",
              "  }\n",
              "\n",
              "  [theme=dark] .colab-df-quickchart {\n",
              "      --bg-color: #3B4455;\n",
              "      --fill-color: #D2E3FC;\n",
              "      --hover-bg-color: #434B5C;\n",
              "      --hover-fill-color: #FFFFFF;\n",
              "      --disabled-bg-color: #3B4455;\n",
              "      --disabled-fill-color: #666;\n",
              "  }\n",
              "\n",
              "  .colab-df-quickchart {\n",
              "    background-color: var(--bg-color);\n",
              "    border: none;\n",
              "    border-radius: 50%;\n",
              "    cursor: pointer;\n",
              "    display: none;\n",
              "    fill: var(--fill-color);\n",
              "    height: 32px;\n",
              "    padding: 0;\n",
              "    width: 32px;\n",
              "  }\n",
              "\n",
              "  .colab-df-quickchart:hover {\n",
              "    background-color: var(--hover-bg-color);\n",
              "    box-shadow: 0 1px 2px rgba(60, 64, 67, 0.3), 0 1px 3px 1px rgba(60, 64, 67, 0.15);\n",
              "    fill: var(--button-hover-fill-color);\n",
              "  }\n",
              "\n",
              "  .colab-df-quickchart-complete:disabled,\n",
              "  .colab-df-quickchart-complete:disabled:hover {\n",
              "    background-color: var(--disabled-bg-color);\n",
              "    fill: var(--disabled-fill-color);\n",
              "    box-shadow: none;\n",
              "  }\n",
              "\n",
              "  .colab-df-spinner {\n",
              "    border: 2px solid var(--fill-color);\n",
              "    border-color: transparent;\n",
              "    border-bottom-color: var(--fill-color);\n",
              "    animation:\n",
              "      spin 1s steps(1) infinite;\n",
              "  }\n",
              "\n",
              "  @keyframes spin {\n",
              "    0% {\n",
              "      border-color: transparent;\n",
              "      border-bottom-color: var(--fill-color);\n",
              "      border-left-color: var(--fill-color);\n",
              "    }\n",
              "    20% {\n",
              "      border-color: transparent;\n",
              "      border-left-color: var(--fill-color);\n",
              "      border-top-color: var(--fill-color);\n",
              "    }\n",
              "    30% {\n",
              "      border-color: transparent;\n",
              "      border-left-color: var(--fill-color);\n",
              "      border-top-color: var(--fill-color);\n",
              "      border-right-color: var(--fill-color);\n",
              "    }\n",
              "    40% {\n",
              "      border-color: transparent;\n",
              "      border-right-color: var(--fill-color);\n",
              "      border-top-color: var(--fill-color);\n",
              "    }\n",
              "    60% {\n",
              "      border-color: transparent;\n",
              "      border-right-color: var(--fill-color);\n",
              "    }\n",
              "    80% {\n",
              "      border-color: transparent;\n",
              "      border-right-color: var(--fill-color);\n",
              "      border-bottom-color: var(--fill-color);\n",
              "    }\n",
              "    90% {\n",
              "      border-color: transparent;\n",
              "      border-bottom-color: var(--fill-color);\n",
              "    }\n",
              "  }\n",
              "</style>\n",
              "\n",
              "  <script>\n",
              "    async function quickchart(key) {\n",
              "      const quickchartButtonEl =\n",
              "        document.querySelector('#' + key + ' button');\n",
              "      quickchartButtonEl.disabled = true;  // To prevent multiple clicks.\n",
              "      quickchartButtonEl.classList.add('colab-df-spinner');\n",
              "      try {\n",
              "        const charts = await google.colab.kernel.invokeFunction(\n",
              "            'suggestCharts', [key], {});\n",
              "      } catch (error) {\n",
              "        console.error('Error during call to suggestCharts:', error);\n",
              "      }\n",
              "      quickchartButtonEl.classList.remove('colab-df-spinner');\n",
              "      quickchartButtonEl.classList.add('colab-df-quickchart-complete');\n",
              "    }\n",
              "    (() => {\n",
              "      let quickchartButtonEl =\n",
              "        document.querySelector('#df-385fb24b-5f6d-4e5f-ae63-73b9a0630363 button');\n",
              "      quickchartButtonEl.style.display =\n",
              "        google.colab.kernel.accessAllowed ? 'block' : 'none';\n",
              "    })();\n",
              "  </script>\n",
              "</div>\n",
              "    </div>\n",
              "  </div>\n"
            ],
            "application/vnd.google.colaboratory.intrinsic+json": {
              "type": "dataframe",
              "summary": "{\n  \"name\": \"#\\u0441\\u0430\\u0439\\u0442 https://www\",\n  \"rows\": 5,\n  \"fields\": [\n    {\n      \"column\": \"UserName\",\n      \"properties\": {\n        \"dtype\": \"number\",\n        \"std\": 1,\n        \"min\": 3800,\n        \"max\": 3804,\n        \"num_unique_values\": 5,\n        \"samples\": [\n          3801,\n          3804,\n          3802\n        ],\n        \"semantic_type\": \"\",\n        \"description\": \"\"\n      }\n    },\n    {\n      \"column\": \"ScreenName\",\n      \"properties\": {\n        \"dtype\": \"number\",\n        \"std\": 1,\n        \"min\": 48752,\n        \"max\": 48756,\n        \"num_unique_values\": 5,\n        \"samples\": [\n          48753,\n          48756,\n          48754\n        ],\n        \"semantic_type\": \"\",\n        \"description\": \"\"\n      }\n    },\n    {\n      \"column\": \"Location\",\n      \"properties\": {\n        \"dtype\": \"string\",\n        \"num_unique_values\": 3,\n        \"samples\": [\n          \"UK\",\n          \"Vagabonds\",\n          \"\\u00c3\\u0083\\u00c2\\u009cT: 36.319708,-82.363649\"\n        ],\n        \"semantic_type\": \"\",\n        \"description\": \"\"\n      }\n    },\n    {\n      \"column\": \"TweetAt\",\n      \"properties\": {\n        \"dtype\": \"object\",\n        \"num_unique_values\": 1,\n        \"samples\": [\n          \"16-03-2020\"\n        ],\n        \"semantic_type\": \"\",\n        \"description\": \"\"\n      }\n    },\n    {\n      \"column\": \"OriginalTweet\",\n      \"properties\": {\n        \"dtype\": \"string\",\n        \"num_unique_values\": 5,\n        \"samples\": [\n          \"Coronavirus Australia: Woolworths to give elderly, disabled dedicated shopping hours amid COVID-19 outbreak https://t.co/bInCA9Vp8P\"\n        ],\n        \"semantic_type\": \"\",\n        \"description\": \"\"\n      }\n    },\n    {\n      \"column\": \"Sentiment\",\n      \"properties\": {\n        \"dtype\": \"number\",\n        \"std\": 0,\n        \"min\": 0,\n        \"max\": 1,\n        \"num_unique_values\": 2,\n        \"samples\": [\n          0\n        ],\n        \"semantic_type\": \"\",\n        \"description\": \"\"\n      }\n    }\n  ]\n}"
            }
          },
          "metadata": {},
          "execution_count": 5
        }
      ],
      "source": [
        "df1 = df.copy()\n",
        "\n",
        "map_dict = {'Positive': 1,  'Extremely Positive': 1, 'Negative': 0, 'Extremely Negative': 0}\n",
        "\n",
        "df1['Sentiment'] = df1['Sentiment'].map(map_dict)\n",
        "df1.head()\n",
        "#сайт https://www.dmitrymakarov.ru/data-analysis/encoding-10/?ysclid=lvxkduh0jq521560461#0-pro-kategorialnye-peremennye (это я ещё для себя, на всякий случай)"
      ]
    },
    {
      "cell_type": "markdown",
      "metadata": {
        "id": "pGq1FxJ-kBo5"
      },
      "source": [
        "Сбалансированы ли классы?"
      ]
    },
    {
      "cell_type": "code",
      "execution_count": null,
      "metadata": {
        "id": "a7gdNtxckK5V",
        "colab": {
          "base_uri": "https://localhost:8080/"
        },
        "outputId": "cdfa946f-70d5-406c-ccbf-53f010db111e"
      },
      "outputs": [
        {
          "output_type": "execute_result",
          "data": {
            "text/plain": [
              "Sentiment\n",
              "1    0.539589\n",
              "0    0.460411\n",
              "Name: proportion, dtype: float64"
            ]
          },
          "metadata": {},
          "execution_count": 6
        }
      ],
      "source": [
        "df1['Sentiment'].value_counts(normalize=True)"
      ]
    },
    {
      "cell_type": "markdown",
      "metadata": {
        "id": "Ng8BCelMkWb0"
      },
      "source": [
        "**Ответ:** классы сбалансированы, так как в выборке доли объектов разных классов существенно не различаются."
      ]
    },
    {
      "cell_type": "markdown",
      "metadata": {
        "id": "qmSIBSsLk5Zz"
      },
      "source": [
        "Выведете на экран информацию о пропусках в данных. Если пропуски присутствуют заполните их строкой 'Unknown'."
      ]
    },
    {
      "cell_type": "code",
      "source": [
        "df1.isna().sum() #по результатам видим, что 7049 пропусков находятся в категории 'Location'"
      ],
      "metadata": {
        "colab": {
          "base_uri": "https://localhost:8080/"
        },
        "id": "IIeSJlI3L6hZ",
        "outputId": "7b4e7563-b758-4fe8-80ab-f5e25d2b1d14"
      },
      "execution_count": null,
      "outputs": [
        {
          "output_type": "execute_result",
          "data": {
            "text/plain": [
              "UserName            0\n",
              "ScreenName          0\n",
              "Location         7049\n",
              "TweetAt             0\n",
              "OriginalTweet       0\n",
              "Sentiment           0\n",
              "dtype: int64"
            ]
          },
          "metadata": {},
          "execution_count": 7
        }
      ]
    },
    {
      "cell_type": "code",
      "execution_count": null,
      "metadata": {
        "id": "UhUVRkR5kxa7",
        "colab": {
          "base_uri": "https://localhost:8080/"
        },
        "outputId": "aa08dd95-ab4b-494f-9987-6cf6b91391a8"
      },
      "outputs": [
        {
          "output_type": "execute_result",
          "data": {
            "text/plain": [
              "UserName         0\n",
              "ScreenName       0\n",
              "Location         0\n",
              "TweetAt          0\n",
              "OriginalTweet    0\n",
              "Sentiment        0\n",
              "dtype: int64"
            ]
          },
          "metadata": {},
          "execution_count": 8
        }
      ],
      "source": [
        "df1.fillna({'Location': 'Unknown'}, inplace=True) #заполняем пропуски строкой 'Unknown'\n",
        "df1.isna().sum() #теперь пропусков нет"
      ]
    },
    {
      "cell_type": "markdown",
      "metadata": {
        "id": "1tzt27tfjUpq"
      },
      "source": [
        "Разделите данные на обучающие и тестовые в соотношении 7 : 3 и `random_state=0`"
      ]
    },
    {
      "cell_type": "code",
      "execution_count": null,
      "metadata": {
        "id": "xSLOA9tIj9Z6",
        "colab": {
          "base_uri": "https://localhost:8080/"
        },
        "outputId": "185c4aee-4300-4021-f378-fe58267c538f"
      },
      "outputs": [
        {
          "output_type": "execute_result",
          "data": {
            "text/plain": [
              "23410"
            ]
          },
          "metadata": {},
          "execution_count": 9
        }
      ],
      "source": [
        "from sklearn.model_selection import train_test_split\n",
        "\n",
        "train, test = train_test_split(df1, test_size=0.3, random_state=0)\n",
        "\n",
        "len(train)"
      ]
    },
    {
      "cell_type": "markdown",
      "metadata": {
        "id": "J9RrPUsJlL60"
      },
      "source": [
        "## Задание 2 Токенизация (3 балла)"
      ]
    },
    {
      "cell_type": "markdown",
      "metadata": {
        "id": "2Dz_b7Xopc_R"
      },
      "source": [
        "Постройте словарь на основе обучающей выборки и посчитайте количество встреч каждого токена с использованием самой простой токенизации - деления текстов по пробельным символам и приведение токенов в нижний регистр"
      ]
    },
    {
      "cell_type": "code",
      "execution_count": null,
      "metadata": {
        "id": "SFr67WOJphny",
        "colab": {
          "base_uri": "https://localhost:8080/"
        },
        "outputId": "fcdcc789-488b-405a-f4f5-8c99694e6245"
      },
      "outputs": [
        {
          "output_type": "execute_result",
          "data": {
            "text/plain": [
              "{'why': 654,\n",
              " 'we': 3787,\n",
              " 'still': 763,\n",
              " 'want': 487,\n",
              " 'to': 23373,\n",
              " 'buy': 748,\n",
              " 'so': 1837,\n",
              " 'much': 482,\n",
              " 'stuff': 106,\n",
              " 'during': 1908,\n",
              " 'quarantine': 154,\n",
              " 'https://t.co/1m881cwfuv': 1,\n",
              " '#shopping': 121,\n",
              " '#covid_19': 1660,\n",
              " '#online': 40,\n",
              " 'with': 4063,\n",
              " 'driving': 77,\n",
              " 'even': 682,\n",
              " 'more': 2008,\n",
              " 'usage': 22,\n",
              " 'a': 11737,\n",
              " 'strong': 93,\n",
              " 'strategy': 33,\n",
              " 'is': 7383,\n",
              " 'critical': 156,\n",
              " 'now': 1349,\n",
              " 'then': 435,\n",
              " 'ever': 179,\n",
              " 'luckily': 8,\n",
              " 'and': 14684,\n",
              " 'april': 163,\n",
              " '16': 36,\n",
              " 'webinar': 65,\n",
              " 'will': 2726,\n",
              " 'dive': 10,\n",
              " 'into': 666,\n",
              " 'growing': 84,\n",
              " 'app': 52,\n",
              " 'awareness': 32,\n",
              " 'targeting': 9,\n",
              " 'high': 408,\n",
              " 'lifetime': 4,\n",
              " 'value': 79,\n",
              " 'users': 19,\n",
              " '@canon_india': 16,\n",
              " 'i': 5340,\n",
              " 'am': 424,\n",
              " 'very': 418,\n",
              " 'happy..': 1,\n",
              " 'great': 409,\n",
              " 'job': 242,\n",
              " 'by': 2236,\n",
              " '#canonforcommunity': 5,\n",
              " 'https://t.co/z0intks34x': 1,\n",
              " 'the': 26815,\n",
              " 'u.s': 8,\n",
              " 'national': 123,\n",
              " 'debt': 68,\n",
              " 'likely': 170,\n",
              " 'exceed': 14,\n",
              " '$30': 7,\n",
              " 'trillion': 21,\n",
              " 'after': 886,\n",
              " 'unprecedented': 89,\n",
              " 'borrowing': 5,\n",
              " 'trump': 228,\n",
              " 'administration': 38,\n",
              " 'mnuchinã\\x82â\\x92s': 1,\n",
              " 'treasury': 3,\n",
              " '#coronavirus': 8223,\n",
              " 'crisis.': 162,\n",
              " 'federal': 99,\n",
              " 'reserve': 17,\n",
              " 'could': 640,\n",
              " 'be': 3570,\n",
              " 'doing': 508,\n",
              " 'cushion': 9,\n",
              " 'blow.': 4,\n",
              " 'consumer': 2245,\n",
              " 'led': 67,\n",
              " 'economy': 244,\n",
              " 'on': 5452,\n",
              " 'brink.': 1,\n",
              " 'finally': 91,\n",
              " 'got': 407,\n",
              " 'grocery': 3469,\n",
              " 'store.': 348,\n",
              " 'honestly,': 8,\n",
              " 'what': 1541,\n",
              " 'are': 7050,\n",
              " 'you': 5467,\n",
              " 'people': 3175,\n",
              " 'all': 2808,\n",
              " 'toilet': 824,\n",
              " 'paper?': 24,\n",
              " 'https://t.co/jmobv8z0u0': 1,\n",
              " 'friends:': 3,\n",
              " 'catholic': 7,\n",
              " \"university's\": 1,\n",
              " 'food': 3820,\n",
              " 'service': 305,\n",
              " 'workers': 1242,\n",
              " 'have': 3770,\n",
              " 'been': 1081,\n",
              " 'laid': 50,\n",
              " 'off': 472,\n",
              " 'without': 301,\n",
              " 'pay.': 14,\n",
              " '(by': 4,\n",
              " 'contrast,': 2,\n",
              " 'georgetown': 2,\n",
              " 'has': 2304,\n",
              " 'set': 146,\n",
              " 'an': 1417,\n",
              " 'example': 46,\n",
              " 'consistent': 7,\n",
              " 'social': 615,\n",
              " 'teaching.)': 1,\n",
              " 'please': 1061,\n",
              " 'sign': 106,\n",
              " 'rt.': 4,\n",
              " '@catholicpres': 1,\n",
              " '@catholicuniv': 1,\n",
              " 'https://t.co/evqby035wf': 1,\n",
              " \"it's\": 571,\n",
              " 'times': 372,\n",
              " 'like': 1550,\n",
              " 'these': 922,\n",
              " 'understand': 151,\n",
              " 'of': 13012,\n",
              " 'bidet.': 2,\n",
              " '#europe': 14,\n",
              " '#bidet': 6,\n",
              " '#toiletpaper': 691,\n",
              " 'regulatory': 11,\n",
              " 'litigation': 3,\n",
              " 'risks': 38,\n",
              " 'financial': 233,\n",
              " 'services': 263,\n",
              " 'providers': 38,\n",
              " 'highlighted': 9,\n",
              " 'in': 11198,\n",
              " 'ballard': 2,\n",
              " 'spahr': 2,\n",
              " 'covid-19': 3173,\n",
              " 'crisis': 713,\n",
              " 'fallout': 21,\n",
              " 'https://t.co/riqrhxxeim': 1,\n",
              " 'via': 687,\n",
              " '@@ballardspahrll': 1,\n",
              " '#training': 2,\n",
              " '#aca': 1,\n",
              " \"don't\": 551,\n",
              " 'panic': 1495,\n",
              " 'buying.': 77,\n",
              " \"i've\": 157,\n",
              " 'struggled': 10,\n",
              " 'get': 1759,\n",
              " 'basics': 19,\n",
              " 'as': 3694,\n",
              " 'emptying': 29,\n",
              " 'shelves.': 79,\n",
              " 'sensible': 20,\n",
              " \"aren't\": 61,\n",
              " 'shortage,': 13,\n",
              " 'just': 1540,\n",
              " 'shop': 471,\n",
              " 'time': 1136,\n",
              " 'restock': 42,\n",
              " 'if': 2142,\n",
              " \"we're\": 168,\n",
              " 'sensible,': 2,\n",
              " 'life': 244,\n",
              " 'slightly': 9,\n",
              " 'easier...take': 1,\n",
              " 'care': 401,\n",
              " '#coronacrisis': 423,\n",
              " 'at': 4642,\n",
              " 'least': 222,\n",
              " 'essential': 496,\n",
              " 'allowed,': 2,\n",
              " 'can': 2202,\n",
              " 'go': 1245,\n",
              " 'store': 3155,\n",
              " 'bank.': 8,\n",
              " 'itã\\x82â\\x92s': 459,\n",
              " 'ridiculous': 56,\n",
              " 'that': 3741,\n",
              " 'actually': 149,\n",
              " 'act': 102,\n",
              " 'going': 1141,\n",
              " 'those': 789,\n",
              " 'types': 25,\n",
              " 'places': 82,\n",
              " 'ã\\x82â\\x93necessaryã\\x82â\\x94': 1,\n",
              " 'stopped': 51,\n",
              " 'police.': 3,\n",
              " '?': 1320,\n",
              " '#covid19': 2471,\n",
              " '#quarantinelife': 112,\n",
              " 'queues': 54,\n",
              " 'outside': 151,\n",
              " 'supermarket': 3288,\n",
              " 'reserved': 10,\n",
              " 'for': 8566,\n",
              " 'elderly.': 8,\n",
              " 'britain,': 5,\n",
              " 'were': 566,\n",
              " 'better': 267,\n",
              " 'than': 891,\n",
              " 'this.': 92,\n",
              " 'https://t.co/0fmsmlgepm': 1,\n",
              " 'lt.': 3,\n",
              " 'gov.': 18,\n",
              " 'husted:': 1,\n",
              " '\"come': 4,\n",
              " 'people.': 113,\n",
              " 'that.\"': 4,\n",
              " 'hearing': 43,\n",
              " 'fight': 330,\n",
              " 'over': 786,\n",
              " 'paper': 587,\n",
              " 'from': 3045,\n",
              " 'one': 1074,\n",
              " 'american': 93,\n",
              " 'irishman': 1,\n",
              " 'others': 300,\n",
              " 'out': 2026,\n",
              " 'there,': 13,\n",
              " '#happystpatricksday!': 1,\n",
              " 'bought': 163,\n",
              " 'some': 1320,\n",
              " 'guiness': 1,\n",
              " 'corned': 2,\n",
              " 'beef': 32,\n",
              " 'cabbage': 2,\n",
              " 'other': 890,\n",
              " 'day': 521,\n",
              " 'since': 369,\n",
              " 'sadly': 19,\n",
              " 'cannot': 147,\n",
              " 'irish': 5,\n",
              " 'pub': 22,\n",
              " 'per': 246,\n",
              " 'tradition,': 2,\n",
              " 'thanks': 275,\n",
              " 'governor': 48,\n",
              " 'pritzker': 2,\n",
              " 'damn': 70,\n",
              " '@ufcw': 7,\n",
              " 'says': 369,\n",
              " '30': 79,\n",
              " 'died': 117,\n",
              " '#coronavirus.': 228,\n",
              " 'union': 38,\n",
              " 'reps': 6,\n",
              " 'consumers': 307,\n",
              " 'help': 1282,\n",
              " 'protect': 340,\n",
              " 'workers/the': 1,\n",
              " 'public.': 20,\n",
              " '-': 1429,\n",
              " 'wear': 182,\n",
              " 'mask': 330,\n",
              " 'when': 1343,\n",
              " 'shopping': 1621,\n",
              " 'touch': 75,\n",
              " 'few': 317,\n",
              " 'products': 427,\n",
              " 'possible': 143,\n",
              " 'throw': 27,\n",
              " 'used': 178,\n",
              " 'mask/gloves': 2,\n",
              " 'ã\\x82â\\x93major': 2,\n",
              " 'chains': 147,\n",
              " 'beginning': 83,\n",
              " 'report': 268,\n",
              " 'their': 1972,\n",
              " 'first': 475,\n",
              " 'coronavirus-related': 14,\n",
              " 'employee': 114,\n",
              " 'deaths,': 7,\n",
              " 'leading': 61,\n",
              " 'closures': 77,\n",
              " 'increasing': 121,\n",
              " 'anxiety': 90,\n",
              " 'among': 90,\n",
              " 'pandemic': 1026,\n",
              " 'intensifies': 8,\n",
              " 'across': 318,\n",
              " 'countryã\\x82â\\x94': 1,\n",
              " 'https://t.co/18v0pyhwb7': 1,\n",
              " 'my': 2445,\n",
              " 'story': 122,\n",
              " 'another': 246,\n",
              " 'aspect': 3,\n",
              " 'covid-19:': 134,\n",
              " 'banks': 244,\n",
              " 'face': 402,\n",
              " 'virus': 480,\n",
              " 'dilemma:': 3,\n",
              " 'demand,': 67,\n",
              " 'fewer': 28,\n",
              " 'volunteers': 68,\n",
              " 'https://t.co/ls0g86i8pu': 1,\n",
              " 'https://t.co/ofvkejff23': 1,\n",
              " 'walking': 68,\n",
              " 'around': 391,\n",
              " 'store,': 196,\n",
              " 'wearing': 190,\n",
              " 'was': 1384,\n",
              " 'weird.': 5,\n",
              " 'seeing': 214,\n",
              " 'mask,': 41,\n",
              " 'normal.': 28,\n",
              " 'sanitizing': 36,\n",
              " 'everything': 280,\n",
              " 'before': 433,\n",
              " 'putting': 166,\n",
              " 'it': 3150,\n",
              " 'away.': 26,\n",
              " 'weird': 37,\n",
              " 'time.': 158,\n",
              " '#azliving': 2,\n",
              " 'https://t.co/xoodgd2ulx': 1,\n",
              " 'point': 117,\n",
              " 're': 328,\n",
              " 'stock': 1063,\n",
              " 'piling': 36,\n",
              " 'live': 236,\n",
              " 'lifestyles': 1,\n",
              " 'eat': 125,\n",
              " 'lot': 262,\n",
              " 'don': 251,\n",
              " 't': 648,\n",
              " 'carry': 56,\n",
              " 'but': 2159,\n",
              " '70': 28,\n",
              " 'mother': 45,\n",
              " 'inherited': 1,\n",
              " 'wartime': 3,\n",
              " 'mentality': 2,\n",
              " 'doesn': 37,\n",
              " 'everyone': 600,\n",
              " '14': 49,\n",
              " 'days': 325,\n",
              " 'worth': 105,\n",
              " 'larder': 1,\n",
              " '1': 340,\n",
              " '2': 582,\n",
              " 'bay': 24,\n",
              " 'view': 42,\n",
              " 'distillery': 29,\n",
              " 'bottling': 1,\n",
              " 'hand': 1382,\n",
              " 'sanitizer': 1064,\n",
              " 'area': 125,\n",
              " 'nonprofits': 7,\n",
              " 'https://t.co/ogxu5ojpxh': 1,\n",
              " 'https://t.co/8cs3skukmn': 1,\n",
              " '#inspiration&gt;&gt;': 1,\n",
              " '#regram': 1,\n",
              " '#showcasing&gt;&gt;': 1,\n",
              " '#artwork': 1,\n",
              " '@karencantuq:': 1,\n",
              " 'title:': 2,\n",
              " '\"ready': 1,\n",
              " 'wipe': 59,\n",
              " 'coronavirus\"': 3,\n",
              " 'caption:': 2,\n",
              " '\"ps': 1,\n",
              " 'donã\\x82â\\x92t': 414,\n",
              " 'people\"': 2,\n",
              " '#stayinsideyourhouse': 1,\n",
              " 'follow&gt;&gt;': 1,\n",
              " '@authorship.me': 1,\n",
              " 'instagram:': 4,\n",
              " 'authorzine&gt;&gt;': 1,\n",
              " 'https://t.co/qo7tzfr0ih': 1,\n",
              " 'https://t.co/yu6kokta74': 1,\n",
              " 'spent': 43,\n",
              " 'trying': 307,\n",
              " 'book': 56,\n",
              " 'delivery': 686,\n",
              " 'any': 624,\n",
              " 'supermarket.': 204,\n",
              " 'there': 1219,\n",
              " 'no': 1898,\n",
              " 'availability': 30,\n",
              " '.': 454,\n",
              " 'self': 210,\n",
              " 'isolate': 52,\n",
              " '12': 78,\n",
              " 'weeks': 312,\n",
              " 'due': 1059,\n",
              " 'being': 827,\n",
              " 'immune': 59,\n",
              " 'supressed.': 1,\n",
              " 'how': 1850,\n",
              " 'supposed': 56,\n",
              " 'food?': 24,\n",
              " 'wonder': 67,\n",
              " 'stockpiled.': 4,\n",
              " 'help!': 15,\n",
              " '#coronacrisisuk': 49,\n",
              " '#stockpilinguk': 18,\n",
              " '#food': 158,\n",
              " 'complete': 61,\n",
              " 'madness': 22,\n",
              " '@borisjohnson': 78,\n",
              " '@susannareid100': 6,\n",
              " '@hollywills': 2,\n",
              " '@piersmorgan': 51,\n",
              " '@eamonnholmes': 1,\n",
              " '@ruthieel': 1,\n",
              " '@gmb': 15,\n",
              " '@bbcnews': 17,\n",
              " '@dailymailuk': 7,\n",
              " '#londonlockdown': 10,\n",
              " '#uklockdown': 22,\n",
              " '#covid-19': 191,\n",
              " 'https://t.co/dexxnx7ox3': 1,\n",
              " '\"forcing': 1,\n",
              " '50': 83,\n",
              " 'governors': 14,\n",
              " 'compete': 12,\n",
              " 'lifesaving': 5,\n",
              " 'equipment': 86,\n",
              " 'ã\\x82â\\x97': 141,\n",
              " 'hospitals': 81,\n",
              " 'pay': 329,\n",
              " 'exorbitant': 34,\n",
              " 'prices': 3891,\n",
              " 'only': 851,\n",
              " 'makes': 114,\n",
              " 'matters': 10,\n",
              " 'worse.\"': 1,\n",
              " 'bill': 67,\n",
              " 'gates:': 2,\n",
              " 'hereã\\x82â\\x92s': 59,\n",
              " 'make': 811,\n",
              " 'up': 1987,\n",
              " 'lost': 143,\n",
              " 'https://t.co/yh3rytrevk': 1,\n",
              " '#mondaymotivation': 16,\n",
              " 'iã\\x82â\\x92m': 414,\n",
              " 'privileged': 7,\n",
              " 'enough': 337,\n",
              " 'drive': 149,\n",
              " 'places.': 9,\n",
              " 'canã\\x82â\\x92t': 243,\n",
              " 'stop': 730,\n",
              " 'thinking': 98,\n",
              " 'about': 1726,\n",
              " 'easy': 74,\n",
              " 'access': 195,\n",
              " 'transport': 61,\n",
              " 'or': 2234,\n",
              " 'who': 1670,\n",
              " 'less': 212,\n",
              " 'able': 249,\n",
              " 'travel': 135,\n",
              " 'multiple': 43,\n",
              " 'shops.': 28,\n",
              " 'start': 201,\n",
              " '#stoppanicbuying': 130,\n",
              " '2/2': 8,\n",
              " 'especially': 161,\n",
              " 'whilst': 54,\n",
              " 'tesco': 51,\n",
              " 'own': 234,\n",
              " 'stores': 648,\n",
              " 'such': 269,\n",
              " 'leyton': 1,\n",
              " 'leytonstone': 2,\n",
              " 'frontline,': 4,\n",
              " 'dealing': 66,\n",
              " 'covid-19,': 311,\n",
              " 'restricted': 21,\n",
              " 'getting': 415,\n",
              " 'vulnerable': 275,\n",
              " 'difficult': 140,\n",
              " 'circumstances.': 8,\n",
              " 'every': 509,\n",
              " 'little': 208,\n",
              " 'helps!': 3,\n",
              " 'indeed!': 5,\n",
              " 'longer': 104,\n",
              " 'having': 257,\n",
              " 'cocktail': 3,\n",
              " 'parties,': 2,\n",
              " 'us': 1247,\n",
              " 'prefer': 15,\n",
              " 'stay': 895,\n",
              " 'sober': 2,\n",
              " 'find': 431,\n",
              " 'club': 24,\n",
              " 'soda': 4,\n",
              " 'local': 821,\n",
              " 'fourth': 6,\n",
              " 'emergency': 267,\n",
              " 'scammers': 113,\n",
              " 'using': 272,\n",
              " 'messages': 27,\n",
              " 'scam': 71,\n",
              " 'https://t.co/nzsthpcxre': 1,\n",
              " 'heaven': 3,\n",
              " 'hades': 1,\n",
              " 'judgement': 3,\n",
              " 'eternal': 2,\n",
              " 'hey': 89,\n",
              " 'wednesday': 42,\n",
              " '3': 364,\n",
              " 'helping': 213,\n",
              " 'free': 467,\n",
              " 'add': 66,\n",
              " 'link': 90,\n",
              " 'tell': 139,\n",
              " 'me': 920,\n",
              " 'which': 504,\n",
              " 'poll': 8,\n",
              " 'll': 75,\n",
              " 'feature': 9,\n",
              " 'blog': 63,\n",
              " '226k': 1,\n",
              " 'views': 11,\n",
              " 'tweet': 29,\n",
              " '54k': 1,\n",
              " 'followers': 12,\n",
              " 'mom': 48,\n",
              " 'found': 169,\n",
              " '#vintagetoiletpaper': 1,\n",
              " 'her': 377,\n",
              " 'basement.': 1,\n",
              " 'circa': 2,\n",
              " '1987.': 1,\n",
              " 'blue': 19,\n",
              " 'peach.': 1,\n",
              " 'told': 216,\n",
              " 'list': 173,\n",
              " '@ebay': 21,\n",
              " 'easy?': 1,\n",
              " '???': 182,\n",
              " 'https://t.co/2tvpmsaxox': 1,\n",
              " '@realdonaldtrump': 151,\n",
              " 'hear': 106,\n",
              " 'out,': 49,\n",
              " 'instead': 147,\n",
              " 'bailing': 6,\n",
              " 'corporations': 22,\n",
              " 'bailed': 2,\n",
              " 'everyoneã\\x82â\\x92s': 14,\n",
              " 'under': 239,\n",
              " '200k?': 1,\n",
              " 'bet': 31,\n",
              " 'would': 730,\n",
              " 'billions': 15,\n",
              " 'aaannnddd': 1,\n",
              " 'rebuy': 1,\n",
              " 'more!': 17,\n",
              " 'plus!': 1,\n",
              " 'our': 2460,\n",
              " 'tax': 64,\n",
              " 'mon': 3,\n",
              " 'yourself': 147,\n",
              " 'washing': 93,\n",
              " 'your': 2784,\n",
              " 'hands': 303,\n",
              " 'often': 60,\n",
              " 'soap': 161,\n",
              " 'water': 194,\n",
              " 'use': 572,\n",
              " '#wolverhampton': 1,\n",
              " 'https://t.co/e7ifbsqaxx': 1,\n",
              " 'two': 331,\n",
              " 'stories': 39,\n",
              " 'should': 875,\n",
              " 'mutually': 1,\n",
              " 'exclusive.': 1,\n",
              " \"couldn't\": 36,\n",
              " 'alleviate': 10,\n",
              " 'vice': 5,\n",
              " 'versa?': 1,\n",
              " 'https://t.co/01oc3pig5b': 1,\n",
              " 'https://t.co/omjr2atzhp': 1,\n",
              " \"here's\": 99,\n",
              " 'idea,': 5,\n",
              " 'become': 138,\n",
              " 'historian.': 1,\n",
              " 'write': 20,\n",
              " 'daily': 192,\n",
              " 'weekly': 60,\n",
              " 'diary': 7,\n",
              " 'grand': 12,\n",
              " 'children': 71,\n",
              " 'experiences.': 3,\n",
              " 'sacrifices,': 2,\n",
              " 'anecdotes,': 1,\n",
              " 'funny': 36,\n",
              " 'sad': 53,\n",
              " 'stories,': 1,\n",
              " 'recipes,': 3,\n",
              " 'photos': 38,\n",
              " 'newspaper': 3,\n",
              " 'clippings.': 1,\n",
              " 'imagine': 77,\n",
              " 'musings': 1,\n",
              " '1.': 77,\n",
              " 'need': 1549,\n",
              " 'media': 155,\n",
              " '#coronavirus...': 5,\n",
              " 'not': 2714,\n",
              " 'because': 902,\n",
              " 'news': 304,\n",
              " 'pictures': 26,\n",
              " 'take': 701,\n",
              " 'advantage': 174,\n",
              " 'of.': 11,\n",
              " '#instafood': 1,\n",
              " 'making': 404,\n",
              " 'restaurant': 88,\n",
              " 'animal': 43,\n",
              " 'shelters': 9,\n",
              " 'left': 211,\n",
              " 'starving': 10,\n",
              " 'buying': 911,\n",
              " 'consider': 122,\n",
              " 'donating': 84,\n",
              " 'through': 427,\n",
              " 'facebook': 45,\n",
              " '@theprojecttv': 1,\n",
              " '@mrbenjaminlaw': 1,\n",
              " 'okay': 28,\n",
              " 'empty': 407,\n",
              " 'shelves': 709,\n",
              " 'goods': 243,\n",
              " '&amp;': 2314,\n",
              " 'send': 112,\n",
              " 'them': 799,\n",
              " 'china!': 2,\n",
              " 'deprive': 3,\n",
              " 'medical': 303,\n",
              " 'supplies': 387,\n",
              " 'faulty': 3,\n",
              " 'covid': 1769,\n",
              " 'americans': 159,\n",
              " 'alarmed': 3,\n",
              " 'shelves,': 55,\n",
              " 'while': 638,\n",
              " 'suppliers': 55,\n",
              " 'retailers': 207,\n",
              " 'say': 350,\n",
              " 'they': 2309,\n",
              " 'struggling': 146,\n",
              " 'surging': 38,\n",
              " 'insist': 7,\n",
              " 'supply': 662,\n",
              " 'chain': 277,\n",
              " 'remains': 39,\n",
              " '@nytimes': 26,\n",
              " '#supplychain': 50,\n",
              " 'https://t.co/qro7avqbz5': 1,\n",
              " 'this': 4581,\n",
              " 'video': 152,\n",
              " 'seen': 258,\n",
              " 'many': 819,\n",
              " 'possible.': 26,\n",
              " 'nhs': 164,\n",
              " 'staff': 521,\n",
              " 'brave': 25,\n",
              " 'woman': 126,\n",
              " 'need,': 21,\n",
              " 'something': 203,\n",
              " 'needs': 276,\n",
              " 'done': 187,\n",
              " 'urgently.': 5,\n",
              " 'https://t.co/kh3kdyqd8t': 1,\n",
              " 'diageo': 1,\n",
              " 'hasnã\\x82â\\x92t': 13,\n",
              " 'clue.': 1,\n",
              " 'clear': 97,\n",
              " 'demonstraion': 1,\n",
              " 'remote': 31,\n",
              " 'consumer.#covid-19': 1,\n",
              " 'https://t.co/tfrsci5ysp': 1,\n",
              " 'picked': 18,\n",
              " 'hell': 54,\n",
              " 'back': 430,\n",
              " 'working': 594,\n",
              " 'rational,': 1,\n",
              " 'educated,': 2,\n",
              " 'respected': 13,\n",
              " 'members': 106,\n",
              " 'community': 243,\n",
              " 'non-perishable': 11,\n",
              " 'items': 439,\n",
              " 'bulk': 71,\n",
              " 'terrified': 12,\n",
              " 'facial': 5,\n",
              " 'expressions,': 1,\n",
              " 'eerie': 4,\n",
              " 'sense': 70,\n",
              " 'doomsday': 6,\n",
              " 'scenario': 11,\n",
              " \"isn't\": 88,\n",
              " 'far': 148,\n",
              " 'off.': 23,\n",
              " 'new': 885,\n",
              " 'study': 38,\n",
              " 'finds': 27,\n",
              " 'may': 525,\n",
              " 'surfaces': 37,\n",
              " 'previously': 23,\n",
              " 'thought.': 12,\n",
              " 'down': 609,\n",
              " 'cleanser,': 1,\n",
              " 'wash': 212,\n",
              " 'frequently': 19,\n",
              " 'sanitizer.': 101,\n",
              " 'safe!': 23,\n",
              " '#coronavirusupdate': 151,\n",
              " '#flatteningthecurve': 2,\n",
              " 'https://t.co/ghbayd7t0g': 1,\n",
              " 'claim': 43,\n",
              " 'support': 477,\n",
              " 'doctors,': 59,\n",
              " 'nurses,': 72,\n",
              " 'responders': 66,\n",
              " 'guard,': 1,\n",
              " 'staff,': 101,\n",
              " 'truck': 105,\n",
              " 'drivers,': 86,\n",
              " 'else': 189,\n",
              " 'continue': 261,\n",
              " 'ignore': 23,\n",
              " 'pleas': 4,\n",
              " 'home!': 21,\n",
              " '#stayhome': 229,\n",
              " '#flattenthecurve': 47,\n",
              " 'shops': 279,\n",
              " 'markets': 211,\n",
              " 'malls': 22,\n",
              " 'restaurants': 131,\n",
              " 'remain': 150,\n",
              " 'closed': 202,\n",
              " 'different': 123,\n",
              " 'cities': 34,\n",
              " 'pakistan': 20,\n",
              " 'country': 321,\n",
              " 'imposed': 22,\n",
              " 'ban': 45,\n",
              " 'movement': 42,\n",
              " 'spread': 514,\n",
              " 'following': 149,\n",
              " 'show': 135,\n",
              " 'roads': 15,\n",
              " 'karachi': 1,\n",
              " 'islamabad': 1,\n",
              " 'bannu': 1,\n",
              " 'online': 1648,\n",
              " '19': 2111,\n",
              " 'lockdown': 326,\n",
              " 'paddy': 1,\n",
              " 'drop': 235,\n",
              " 'closure': 30,\n",
              " 'inter': 3,\n",
              " 'state': 250,\n",
              " 'borders': 16,\n",
              " 'andhra': 1,\n",
              " 'pradesh': 2,\n",
              " '#trumppressconference': 6,\n",
              " 'never': 303,\n",
              " 'maga': 2,\n",
              " 'rally': 14,\n",
              " 'amp': 859,\n",
              " 'stand': 74,\n",
              " 'talking': 69,\n",
              " 'russia': 92,\n",
              " 'mbs': 9,\n",
              " 'oil': 900,\n",
              " 'gas': 361,\n",
              " 'cuts': 65,\n",
              " 'wtf': 31,\n",
              " 'notice': 48,\n",
              " 'press': 42,\n",
              " 'release': 23,\n",
              " 'induced': 13,\n",
              " '2020': 211,\n",
              " 'recession': 77,\n",
              " 'disrupt': 9,\n",
              " 'automotive': 6,\n",
              " 'electronics': 14,\n",
              " 'semiconductor': 2,\n",
              " 'infrastructure': 19,\n",
              " 'businesses': 342,\n",
              " 'lockdown:': 9,\n",
              " 'know': 641,\n",
              " 'options==&gt;': 1,\n",
              " 'https://t.co/qky8zps5oz': 1,\n",
              " '#21dayslockdown': 12,\n",
              " '#21daylockdown': 14,\n",
              " '#21dayslockdownindia': 1,\n",
              " '#coronavirusindia': 30,\n",
              " '#coronaviruslockdown': 71,\n",
              " 'idiots': 46,\n",
              " 'president': 104,\n",
              " 'also': 635,\n",
              " 'needed': 148,\n",
              " 'direct': 75,\n",
              " 'business': 445,\n",
              " 'situation,': 20,\n",
              " 'hike': 58,\n",
              " 'required': 50,\n",
              " 'safeguarding': 3,\n",
              " 'transmission': 28,\n",
              " 'packet': 8,\n",
              " 'facemasks': 7,\n",
              " '@': 111,\n",
              " '150k,': 1,\n",
              " 'chloroquine': 19,\n",
              " '100k': 5,\n",
              " 'right,': 9,\n",
              " 'see': 756,\n",
              " 'greedy': 60,\n",
              " '*duckers*': 1,\n",
              " 'stockpiled': 10,\n",
              " 'all!': 12,\n",
              " '#convid19uk': 23,\n",
              " '#stopstockpiling': 44,\n",
              " 'call': 276,\n",
              " 'bollocks': 6,\n",
              " 'one.': 30,\n",
              " 'fair': 53,\n",
              " 'amount': 98,\n",
              " 'ppl': 120,\n",
              " 'buyin': 1,\n",
              " 'immediately': 51,\n",
              " 'years': 146,\n",
              " 'brexit': 18,\n",
              " 'n': 90,\n",
              " 'general': 94,\n",
              " 'skintness.': 1,\n",
              " 'its': 674,\n",
              " 'fucking': 128,\n",
              " 'buyers.': 7,\n",
              " \"'accidental\": 3,\n",
              " \"hoarders'\": 2,\n",
              " 'causing': 76,\n",
              " 'shortages': 146,\n",
              " 'https://t.co/q2nslsf6ke': 1,\n",
              " 'sent': 68,\n",
              " '@updayuk': 5,\n",
              " \"today's\": 33,\n",
              " 'news:': 26,\n",
              " 'pressured': 3,\n",
              " 'close': 250,\n",
              " 'affects': 19,\n",
              " 'beauty': 22,\n",
              " 'industry': 234,\n",
              " 'retail': 610,\n",
              " 'age': 60,\n",
              " 'coronavirus': 970,\n",
              " 'j.c.': 1,\n",
              " 'penney': 1,\n",
              " 'brings': 23,\n",
              " 'interactive': 6,\n",
              " 'style': 15,\n",
              " 'fitting': 7,\n",
              " 'rooms': 10,\n",
              " '#coronapocalypse': 23,\n",
              " '#ecommerce': 79,\n",
              " '#retail': 180,\n",
              " '#dtc': 3,\n",
              " 'https://t.co/rafj2l2ceq': 2,\n",
              " 'https://t.co/tgoar4fhl1': 1,\n",
              " 'love': 146,\n",
              " 'this!': 23,\n",
              " 'victoria': 5,\n",
              " 'helps': 50,\n",
              " 'production': 217,\n",
              " '1st': 64,\n",
              " 'wwii,': 7,\n",
              " 'demand': 1345,\n",
              " '|': 279,\n",
              " 'cbc': 17,\n",
              " 'https://t.co/75vb12pbap': 1,\n",
              " '@cityoftoronto': 1,\n",
              " '@johntory': 2,\n",
              " 'bank': 211,\n",
              " 'grateful': 64,\n",
              " 'donations': 84,\n",
              " 'sees': 44,\n",
              " 'spike': 46,\n",
              " '#covid2019': 915,\n",
              " \"doesn't\": 94,\n",
              " 'discriminate.': 1,\n",
              " 'society': 78,\n",
              " 'healthcare': 214,\n",
              " 'system': 132,\n",
              " 'does.': 2,\n",
              " 'minimum': 65,\n",
              " 'wage': 52,\n",
              " 'grocery-store/warehouse': 1,\n",
              " 'workers,': 280,\n",
              " 'migrant': 9,\n",
              " 'transported': 1,\n",
              " 'fields': 16,\n",
              " 'crowded': 51,\n",
              " 'trucks,': 2,\n",
              " 'living': 100,\n",
              " 'public': 386,\n",
              " 'housing': 65,\n",
              " 'w/mold': 1,\n",
              " 'causes': 48,\n",
              " 'asthma': 18,\n",
              " 'disproportionately': 6,\n",
              " 'risk': 397,\n",
              " 'waiting': 115,\n",
              " 'line': 291,\n",
              " 'order': 337,\n",
              " 'practice': 80,\n",
              " 'safe': 487,\n",
              " '#socialdistancing': 427,\n",
              " ',': 187,\n",
              " 'sure': 288,\n",
              " 'youre': 4,\n",
              " 'fit': 17,\n",
              " 'corpse': 3,\n",
              " 'between': 152,\n",
              " 'person': 207,\n",
              " 'front': 231,\n",
              " 'you.': 117,\n",
              " 'added': 39,\n",
              " 'accuracy,': 1,\n",
              " 'bring': 137,\n",
              " 'body': 26,\n",
              " 'went': 378,\n",
              " 'usual': 62,\n",
              " 'had': 660,\n",
              " 'door': 57,\n",
              " '(100': 1,\n",
              " 'store)': 14,\n",
              " 'right': 455,\n",
              " 'needed.': 21,\n",
              " 'prevent': 152,\n",
              " 'it,': 87,\n",
              " 'venezuelan.': 1,\n",
              " 'article:': 10,\n",
              " 'health': 540,\n",
              " 'share': 254,\n",
              " 'begin': 31,\n",
              " 'recovery': 51,\n",
              " 'https://t.co/auxib44pom': 1,\n",
              " 'yesterday': 113,\n",
              " 'took': 95,\n",
              " 'n95': 47,\n",
              " 'masks,': 87,\n",
              " 'gloves': 216,\n",
              " 'revera': 1,\n",
              " 'mckenzie': 1,\n",
              " 'towne': 2,\n",
              " 'retirement': 8,\n",
              " 'brenda': 1,\n",
              " 'strafford': 1,\n",
              " 'foundation.': 2,\n",
              " '#2019ncov': 4,\n",
              " '#sarscov2': 22,\n",
              " '#albertafireflood': 1,\n",
              " '#restoration': 1,\n",
              " '#cleaning': 6,\n",
              " '#sanatizing': 1,\n",
              " '#heretohelp': 2,\n",
              " '#supportlocal': 10,\n",
              " '#calgary': 4,\n",
              " '#yyc': 7,\n",
              " '#supportlocalbusiness': 5,\n",
              " 'loads': 28,\n",
              " 'emails': 37,\n",
              " 'companies': 393,\n",
              " 'last': 462,\n",
              " 'saying': 153,\n",
              " 'customers': 451,\n",
              " '#sky': 2,\n",
              " 'true': 72,\n",
              " 'colours': 4,\n",
              " 'increase': 348,\n",
              " '#noshame': 1,\n",
              " '#nosense': 1,\n",
              " '#cancelsky': 1,\n",
              " 'https://t.co/8mrz0kdmez': 1,\n",
              " 'marketers': 16,\n",
              " 'friends,': 10,\n",
              " 'good': 586,\n",
              " 'article': 112,\n",
              " '@mckinsey': 22,\n",
              " 'regarding': 90,\n",
              " 'customer': 129,\n",
              " 'sentiment': 69,\n",
              " 'ready': 107,\n",
              " 'change': 174,\n",
              " ...}"
            ]
          },
          "metadata": {},
          "execution_count": 10
        }
      ],
      "source": [
        "#пользуемся самой простой токенизацией\n",
        "#1) Нужно построить словарь на основе обучающей выборки\n",
        "#2) Нужно посчитать количество встреч каждого токена\n",
        "\n",
        "#делим текст по пробельным символам и приводим в нижний регистр\n",
        "lists_tokens = train['OriginalTweet'].apply(lambda x: str(x).lower().split())\n",
        "\n",
        "list_index = list(lists_tokens.index)\n",
        "\n",
        "list_with_tokens = []\n",
        "for i in list_index:\n",
        "  j=0\n",
        "  for j in range(len(lists_tokens[i])):\n",
        "    list_with_tokens.append(lists_tokens[i][j])\n",
        "    j+=1\n",
        "\n",
        "dict_token = {}\n",
        "keys = dict_token.keys()\n",
        "for k in range(len(list_with_tokens)):\n",
        "  if list_with_tokens[k] not in keys:\n",
        "    dict_token[list_with_tokens[k]]=1\n",
        "  else:\n",
        "    dict_token[list_with_tokens[k]]+=1\n",
        "\n",
        "dict_token"
      ]
    },
    {
      "cell_type": "markdown",
      "metadata": {
        "id": "Pe0h2Jqkpnao"
      },
      "source": [
        "Какой размер словаря получился?"
      ]
    },
    {
      "cell_type": "code",
      "execution_count": null,
      "metadata": {
        "id": "umyENA7EpokD",
        "colab": {
          "base_uri": "https://localhost:8080/"
        },
        "outputId": "85412459-56ac-4044-ab8a-0086c1842651"
      },
      "outputs": [
        {
          "output_type": "execute_result",
          "data": {
            "text/plain": [
              "79755"
            ]
          },
          "metadata": {},
          "execution_count": 11
        }
      ],
      "source": [
        "len(dict_token)"
      ]
    },
    {
      "cell_type": "markdown",
      "source": [
        "Размер словаря = 79755 токенов."
      ],
      "metadata": {
        "id": "se5E-Kam00DX"
      }
    },
    {
      "cell_type": "markdown",
      "metadata": {
        "id": "0d2G1Z-Qpqkd"
      },
      "source": [
        "Выведите 10 самых популярных токенов с количеством встреч каждого из них. Объясните, почему именно эти токены в топе"
      ]
    },
    {
      "cell_type": "code",
      "execution_count": null,
      "metadata": {
        "id": "Impi32a_pssg",
        "colab": {
          "base_uri": "https://localhost:8080/"
        },
        "outputId": "a7eecdcf-fad4-40cf-955d-474f107168da"
      },
      "outputs": [
        {
          "output_type": "stream",
          "name": "stdout",
          "text": [
            "Токен 'the' встречается 26815 раз\n",
            "Токен 'to' встречается 23373 раз\n",
            "Токен 'and' встречается 14684 раз\n",
            "Токен 'of' встречается 13012 раз\n",
            "Токен 'a' встречается 11737 раз\n",
            "Токен 'in' встречается 11198 раз\n",
            "Токен 'for' встречается 8566 раз\n",
            "Токен '#coronavirus' встречается 8223 раз\n",
            "Токен 'is' встречается 7383 раз\n",
            "Токен 'are' встречается 7050 раз\n"
          ]
        }
      ],
      "source": [
        "popular_values = (sorted(dict_token.values(), reverse=True))[0:10]\n",
        "\n",
        "keys = dict_token.keys()\n",
        "for value in popular_values:\n",
        "  for key in keys:\n",
        "    if dict_token[key]==value:\n",
        "      print(f\"Токен '{key}' встречается {value} раз\")"
      ]
    },
    {
      "cell_type": "markdown",
      "metadata": {
        "id": "ZtuJCD0ApuFd"
      },
      "source": [
        "**Ответ:** данные токены в топе, потому что они являются составляющими любого предложения (частицы, местоимения, предлоги и тд). Также популярен #coronavirus, так как твиты на тему короны и с того времени."
      ]
    },
    {
      "cell_type": "markdown",
      "metadata": {
        "id": "T7DTQDkWsVYp"
      },
      "source": [
        "Удалите стоп-слова из словаря и выведите новый топ-10 токенов (и количество встреч) по популярности.  Что можно сказать  о нем?"
      ]
    },
    {
      "cell_type": "code",
      "execution_count": null,
      "metadata": {
        "id": "8csSAdgTsnFx",
        "colab": {
          "base_uri": "https://localhost:8080/"
        },
        "outputId": "97206756-c89c-4b89-e390-62d45ebb8536"
      },
      "outputs": [
        {
          "output_type": "stream",
          "name": "stderr",
          "text": [
            "[nltk_data] Downloading package stopwords to /root/nltk_data...\n",
            "[nltk_data]   Package stopwords is already up-to-date!\n"
          ]
        },
        {
          "output_type": "stream",
          "name": "stdout",
          "text": [
            "Токен '#coronavirus' встречается '8223' раз\n",
            "Токен 'prices' встречается '3891' раз\n",
            "Токен 'food' встречается '3820' раз\n",
            "Токен 'grocery' встречается '3469' раз\n",
            "Токен 'supermarket' встречается '3288' раз\n",
            "Токен 'people' встречается '3175' раз\n",
            "Токен 'covid-19' встречается '3173' раз\n",
            "Токен 'store' встречается '3155' раз\n",
            "Токен '#covid19' встречается '2471' раз\n",
            "Токен '&amp;' встречается '2314' раз\n"
          ]
        }
      ],
      "source": [
        "import nltk\n",
        "nltk.download(\"stopwords\")\n",
        "from nltk.corpus import stopwords\n",
        "\n",
        "stop_words = stopwords.words('english')\n",
        "keys = dict_token.keys()\n",
        "for word in stop_words:\n",
        "  if word in keys:\n",
        "    dict_token.pop(word)\n",
        "\n",
        "popular_values = (sorted(dict_token.values(), reverse=True))[0:10]\n",
        "for value in popular_values:\n",
        "  for key in keys:\n",
        "    if dict_token[key]==value:\n",
        "      print(f\"Токен '{key}' встречается '{value}' раз\")"
      ]
    },
    {
      "cell_type": "markdown",
      "metadata": {
        "id": "LZH0x2Lzs-Dh"
      },
      "source": [
        "**Ответ:**  теперь здесь нет служебных частей речи. В основном нормальные существительные, но также видим хэштеги и один символ в конце, который, как я понимаю, заменяет союз 'and'."
      ]
    },
    {
      "cell_type": "markdown",
      "metadata": {
        "id": "TKSGRyI-uor0"
      },
      "source": [
        "Также выведите 20 самых непопулярных слов (если самых непопулярных слов больше выведите любые 20 из них) Почему эти токены непопулярны, требуется ли как-то дополнительно работать с ними?"
      ]
    },
    {
      "cell_type": "code",
      "source": [
        "unpopular_values = sorted(dict_token.values())[0:20]\n",
        "keys = dict_token.keys()\n",
        "\n",
        "counter = 0\n",
        "for value in unpopular_values:\n",
        "  for key in keys:\n",
        "    if dict_token[key] == value:\n",
        "      print(f\"Непопулярный токен {key} встречается {value} раз\")\n",
        "      counter += 1\n",
        "    elif counter >= 20:\n",
        "      break"
      ],
      "metadata": {
        "colab": {
          "base_uri": "https://localhost:8080/"
        },
        "id": "cdsjGX44N9IK",
        "outputId": "64ea5da7-fcc5-4a79-e56a-9c8006fb5fb4"
      },
      "execution_count": null,
      "outputs": [
        {
          "output_type": "stream",
          "name": "stdout",
          "text": [
            "Непопулярный токен https://t.co/1m881cwfuv встречается 1 раз\n",
            "Непопулярный токен happy.. встречается 1 раз\n",
            "Непопулярный токен https://t.co/z0intks34x встречается 1 раз\n",
            "Непопулярный токен mnuchinãâs встречается 1 раз\n",
            "Непопулярный токен brink. встречается 1 раз\n",
            "Непопулярный токен https://t.co/jmobv8z0u0 встречается 1 раз\n",
            "Непопулярный токен university's встречается 1 раз\n",
            "Непопулярный токен teaching.) встречается 1 раз\n",
            "Непопулярный токен @catholicpres встречается 1 раз\n",
            "Непопулярный токен @catholicuniv встречается 1 раз\n",
            "Непопулярный токен https://t.co/evqby035wf встречается 1 раз\n",
            "Непопулярный токен https://t.co/riqrhxxeim встречается 1 раз\n",
            "Непопулярный токен @@ballardspahrll встречается 1 раз\n",
            "Непопулярный токен #aca встречается 1 раз\n",
            "Непопулярный токен easier...take встречается 1 раз\n",
            "Непопулярный токен ãânecessaryãâ встречается 1 раз\n",
            "Непопулярный токен https://t.co/0fmsmlgepm встречается 1 раз\n",
            "Непопулярный токен husted: встречается 1 раз\n",
            "Непопулярный токен irishman встречается 1 раз\n",
            "Непопулярный токен #happystpatricksday! встречается 1 раз\n"
          ]
        }
      ]
    },
    {
      "cell_type": "markdown",
      "metadata": {
        "id": "uRp3J1gQunlR"
      },
      "source": [
        "**Ответ:** видим много ссылок, указания никнеймов, нормальные слова и хэштеги. Ссылки являются непопулярными, так как это нераспростроненное явление в твитах. Я думаю, что если мы уберём знаки препинания, то можем пополнить словарь нормальными словами, типо из 'happy..' сделаем 'happy' и очевидно сократим словарь, потому что уберём повторы.\n",
        "\n"
      ]
    },
    {
      "cell_type": "markdown",
      "metadata": {
        "id": "wx9LQOSPzvjV"
      },
      "source": [
        "Теперь воспользуемся токенайзером получше - TweetTokenizer из библиотеки nltk. Примените его и посмотрите на топ-10 популярных слов. Чем он отличается от топа, который получался раньше? Почему?"
      ]
    },
    {
      "cell_type": "code",
      "execution_count": null,
      "metadata": {
        "id": "2G1UkyVxzvFY",
        "colab": {
          "base_uri": "https://localhost:8080/"
        },
        "outputId": "98d8e32d-bf2e-410a-d3d0-118b8713cb34"
      },
      "outputs": [
        {
          "output_type": "stream",
          "name": "stdout",
          "text": [
            "Токен 'the' встречается 24337 раз\n",
            "Токен '.' встречается 24118 раз\n",
            "Токен 'to' встречается 22933 раз\n",
            "Токен ',' встречается 17571 раз\n",
            "Токен 'and' встречается 14354 раз\n",
            "Токен 'of' встречается 12904 раз\n",
            "Токен 'a' встречается 11045 раз\n",
            "Токен 'in' встречается 10573 раз\n",
            "Токен '?' встречается 9524 раз\n",
            "Токен 'for' встречается 8228 раз\n"
          ]
        }
      ],
      "source": [
        "from nltk.tokenize import TweetTokenizer\n",
        "\n",
        "lists_tokens_tw = train['OriginalTweet'].apply(lambda tweet: TweetTokenizer().tokenize(tweet))\n",
        "\n",
        "list_index_tw = lists_tokens_tw.index\n",
        "\n",
        "list_with_tokens_tw = []\n",
        "for ind in list_index_tw:\n",
        "  j = 0\n",
        "  for j in range(len(lists_tokens_tw[ind])):\n",
        "    list_with_tokens_tw.append(lists_tokens_tw[ind][j])\n",
        "    j += 1\n",
        "\n",
        "dict_token_tw = {}\n",
        "keys = dict_token_tw.keys()\n",
        "for k in range(len(list_with_tokens_tw)):\n",
        "  if list_with_tokens_tw[k] not in keys:\n",
        "    dict_token_tw[list_with_tokens_tw[k]]=1\n",
        "  else:\n",
        "    dict_token_tw[list_with_tokens_tw[k]]+=1\n",
        "\n",
        "popular_values_tw = (sorted(dict_token_tw.values(), reverse=True))[0:10]\n",
        "\n",
        "keys_tw = dict_token_tw.keys()\n",
        "for value in popular_values_tw:\n",
        "  for key in keys_tw:\n",
        "    if dict_token_tw[key] == value:\n",
        "      print(f\"Токен '{key}' встречается {value} раз\")"
      ]
    },
    {
      "cell_type": "markdown",
      "metadata": {
        "id": "50eVUnJN1Zxl"
      },
      "source": [
        "**Ответ:** здесь как отдельные токены появились знаки препинания, потому что мы применили более точно разделяющую токенизацию."
      ]
    },
    {
      "cell_type": "markdown",
      "metadata": {
        "id": "1gqQgiMs11bs"
      },
      "source": [
        "Удалите из словаря стоп-слова и пунктуацию, посмотрите на новый топ-10 слов с количеством встреч, есть ли теперь в нем что-то не похожее на слова?"
      ]
    },
    {
      "cell_type": "code",
      "execution_count": null,
      "metadata": {
        "id": "0yHWdFrp0Mup",
        "colab": {
          "base_uri": "https://localhost:8080/"
        },
        "outputId": "85a99691-e524-4d6c-a352-4886a3f202c3"
      },
      "outputs": [
        {
          "output_type": "stream",
          "name": "stdout",
          "text": [
            "Токен 'Â' встречается '7415'\n",
            "Токен '' встречается '7311'\n",
            "Токен '19' встречается '7167'\n",
            "Токен '#coronavirus' встречается '7143'\n",
            "Токен 'I' встречается '5235'\n",
            "Токен '' встречается '4372'\n",
            "Токен 'prices' встречается '4281'\n",
            "Токен 'COVID' встречается '4218'\n",
            "Токен 'food' встречается '3795'\n",
            "Токен 'store' встречается '3691'\n"
          ]
        }
      ],
      "source": [
        "from string import punctuation\n",
        "\n",
        "stop_words = stopwords.words('english')\n",
        "keys_tw = dict_token_tw.keys()\n",
        "for word in stop_words:\n",
        "  if word in keys_tw:\n",
        "    dict_token_tw.pop(word)\n",
        "\n",
        "for punct in punctuation:\n",
        "  if punct in keys:\n",
        "    dict_token_tw.pop(punct)\n",
        "\n",
        "popular_values_tw = (sorted(dict_token_tw.values(), reverse=True))[0:10]\n",
        "for value in popular_values_tw:\n",
        "  for key in keys_tw:\n",
        "    if dict_token_tw[key] == value:\n",
        "      print(f\"Токен '{key}' встречается '{value}'\")"
      ]
    },
    {
      "cell_type": "markdown",
      "metadata": {
        "id": "8ZJqXELP_Yxy"
      },
      "source": [
        "**Ответ:** на слова не похожи символы в виде прямоугольников, возможно, это смайлики. Также появилась цифра 19."
      ]
    },
    {
      "cell_type": "markdown",
      "metadata": {
        "id": "rzXjMsSB_kXB"
      },
      "source": [
        "Удалите из словаря токены из одного символа, с позицией в таблице Unicode 128 и более (`ord(x) >= 128`)\n",
        "\n",
        "Выведите топ-10 самых популярных и топ-20 непопулярных слов. Чем полученные топы отличаются от итоговых топов, полученных при использовании токенизации по пробелам? Что теперь лучше, а что хуже?"
      ]
    },
    {
      "cell_type": "code",
      "execution_count": null,
      "metadata": {
        "id": "1695hlkS_1-J",
        "colab": {
          "base_uri": "https://localhost:8080/"
        },
        "outputId": "6162cdbf-7a37-42f7-f1fb-bbdc37dfe0e3"
      },
      "outputs": [
        {
          "output_type": "stream",
          "name": "stdout",
          "text": [
            "Токен '19' встречается '7167' раз\n",
            "Токен '#coronavirus' встречается '7143' раз\n",
            "Токен 'prices' встречается '4281' раз\n",
            "Токен 'COVID' встречается '4218' раз\n",
            "Токен 'food' встречается '3795' раз\n",
            "Токен 'store' встречается '3691' раз\n",
            "Токен 'supermarket' встречается '3373' раз\n",
            "Токен 'grocery' встречается '3083' раз\n",
            "Токен 'people' встречается '3047' раз\n",
            "Токен 'The' встречается '2516' раз\n",
            "Непопулярный токен https://t.co/1m881CwFUv встречается 1 раз\n",
            "Непопулярный токен https://t.co/Z0intkS34x встречается 1 раз\n",
            "Непопулярный токен MnuchinÃ встречается 1 раз\n",
            "Непопулярный токен https://t.co/JmoBv8z0U0 встречается 1 раз\n",
            "Непопулярный токен University's встречается 1 раз\n",
            "Непопулярный токен @CatholicPres встречается 1 раз\n",
            "Непопулярный токен @CatholicUniv встречается 1 раз\n",
            "Непопулярный токен https://t.co/EvQby035wF встречается 1 раз\n",
            "Непопулярный токен https://t.co/rIQrhxxeIM встречается 1 раз\n",
            "Непопулярный токен @BallardSpahrLL встречается 1 раз\n",
            "Непопулярный токен #training встречается 1 раз\n",
            "Непопулярный токен #aca встречается 1 раз\n",
            "Непопулярный токен https://t.co/0FmSmlGePM встречается 1 раз\n",
            "Непопулярный токен Irishman встречается 1 раз\n",
            "Непопулярный токен #HappyStPatricksDay встречается 1 раз\n",
            "Непопулярный токен Guiness встречается 1 раз\n",
            "Непопулярный токен https://t.co/18V0PYHwb7 встречается 1 раз\n",
            "Непопулярный токен https://t.co/LS0g86i8PU встречается 1 раз\n",
            "Непопулярный токен https://t.co/oFVkejfF23 встречается 1 раз\n",
            "Непопулярный токен https://t.co/Xoodgd2uLx встречается 1 раз\n"
          ]
        }
      ],
      "source": [
        "keys_tw = dict_token_tw.keys()\n",
        "dict_token_tw_2 = dict_token_tw.copy()\n",
        "for key in keys_tw:\n",
        "  if (len(key) == 1 and ord(key) >= 128) or len(key) == 1:\n",
        "    dict_token_tw_2.pop(key)\n",
        "\n",
        "popular_values_tw = (sorted(dict_token_tw_2.values(), reverse=True))[0:10]\n",
        "keys_tw_2 = dict_token_tw_2.keys()\n",
        "for value in popular_values_tw:\n",
        "  for key in keys_tw_2:\n",
        "    if dict_token_tw_2[key] == value:\n",
        "      print(f\"Токен '{key}' встречается '{value}' раз\")\n",
        "\n",
        "unpopular_values_tw = sorted(dict_token_tw_2.values())[0:20]\n",
        "counter = 0\n",
        "for value in unpopular_values:\n",
        "  for key in keys_tw_2:\n",
        "    if dict_token_tw_2[key] == value:\n",
        "      print(f\"Непопулярный токен {key} встречается {value} раз\")\n",
        "      counter += 1\n",
        "    elif counter >= 20:\n",
        "      break"
      ]
    },
    {
      "cell_type": "markdown",
      "metadata": {
        "id": "KzjHAKIlDvc6"
      },
      "source": [
        "**Ответ:** здесь как отдельный токен есть цифра '19' и 'COVID', что означает, что, благодаря более точному разделению, были устранены повторы, тем самым, скорее всего, и размер словаря уменьшился. В непопулярных стало больше ссылок, хэштегов. Токенизация провела более умное разделение."
      ]
    },
    {
      "cell_type": "markdown",
      "metadata": {
        "id": "EcDf9_6HB2zm"
      },
      "source": [
        "Выведите топ-10 популярных хештегов с количеством встреч. Что можно сказать о них?"
      ]
    },
    {
      "cell_type": "code",
      "source": [
        "keys_tw_2 = dict_token_tw_2.keys()\n",
        "hashtag = {}\n",
        "for key in keys_tw_2:\n",
        "  if '#' in key[0]:\n",
        "    hashtag[key] = dict_token_tw_2[key]\n",
        "\n",
        "popular_v_hashtag = (sorted(hashtag.values(), reverse=True))[0:10]\n",
        "keys_hash = hashtag.keys()\n",
        "for value in popular_v_hashtag:\n",
        "  for key in keys_hash:\n",
        "    if hashtag[key] == value:\n",
        "      print(f\"Хештег '{key}' встречается '{value}' раз\")"
      ],
      "metadata": {
        "colab": {
          "base_uri": "https://localhost:8080/"
        },
        "id": "coDJdsXhCA7o",
        "outputId": "db9919bd-1baa-4876-fb01-e862885024ad"
      },
      "execution_count": null,
      "outputs": [
        {
          "output_type": "stream",
          "name": "stdout",
          "text": [
            "Хештег '#coronavirus' встречается '7143' раз\n",
            "Хештег '#COVID19' встречается '1844' раз\n",
            "Хештег '#Covid_19' встречается '1463' раз\n",
            "Хештег '#Coronavirus' встречается '1281' раз\n",
            "Хештег '#COVID2019' встречается '927' раз\n",
            "Хештег '#toiletpaper' встречается '657' раз\n",
            "Хештег '#covid19' встречается '568' раз\n",
            "Хештег '#COVID' встречается '542' раз\n",
            "Хештег '#CoronaCrisis' встречается '426' раз\n",
            "Хештег '#CoronaVirus' встречается '351' раз\n"
          ]
        }
      ]
    },
    {
      "cell_type": "markdown",
      "metadata": {
        "id": "-6NeNWBkDxM7"
      },
      "source": [
        "**Ответ:** все хештеги посвящены теме коронавируса или как-то связаны с ней, например, \"#toiletpaper\" 😀"
      ]
    },
    {
      "cell_type": "markdown",
      "metadata": {
        "id": "LLYBg7caD5GA"
      },
      "source": [
        "То же самое проделайте для ссылок на сайт https://t.co Сравнима ли популярность ссылок с популярностью хештегов? Будет ли информация о ссылке на конкретную страницу полезна?"
      ]
    },
    {
      "cell_type": "code",
      "source": [
        "keys_tw_2 = dict_token_tw_2.keys()\n",
        "links = {}\n",
        "for key in keys_tw_2:\n",
        "  if 'https://t.co' in key:\n",
        "    links[key] = dict_token_tw_2[key]\n",
        "\n",
        "counter = 0\n",
        "popular_v_links = (sorted(links.values(), reverse=True))[0:10]\n",
        "keys_link = links.keys()\n",
        "for value in popular_v_links:\n",
        "  for key in keys_link:\n",
        "    if links[key] == value:\n",
        "      print(f\"Сайт '{key}' встречается '{value}' раз\")\n",
        "      counter += 1\n",
        "    if counter >= 10:\n",
        "      break"
      ],
      "metadata": {
        "colab": {
          "base_uri": "https://localhost:8080/"
        },
        "id": "8zJMMyQyFA91",
        "outputId": "c42ab8b3-a298-4da5-fcd7-7b65f5e97b43"
      },
      "execution_count": null,
      "outputs": [
        {
          "output_type": "stream",
          "name": "stdout",
          "text": [
            "Сайт 'https://t.co/oXA7SWtoNd' встречается '5' раз\n",
            "Сайт 'https://t.co/gP3EusapL8' встречается '4' раз\n",
            "Сайт 'https://t.co/DefTruI1PfÃÂ' встречается '3' раз\n",
            "Сайт 'https://t.co/WrLHYzIzAA' встречается '3' раз\n",
            "Сайт 'https://t.co/kuwIpF1KQW' встречается '3' раз\n",
            "Сайт 'https://t.co/zjNRx6dKKN' встречается '3' раз\n",
            "Сайт 'https://t.co/3GBBDpdjat' встречается '3' раз\n",
            "Сайт 'https://t.co/e2ZNXajPre' встречается '3' раз\n",
            "Сайт 'https://t.co/CATKegAyOY' встречается '3' раз\n",
            "Сайт 'https://t.co/G63RP042HO' встречается '3' раз\n"
          ]
        }
      ]
    },
    {
      "cell_type": "markdown",
      "metadata": {
        "id": "at6lRYZ8A07N"
      },
      "source": [
        "**Ответ:** популярность ссылок не сравнима с популярностью хештегов, ссылки более чем в 1000 раз менее популярны. Не всегда информация о ссылке полезна, иногда можно нарваться на вирус, как пример :-)"
      ]
    },
    {
      "cell_type": "markdown",
      "metadata": {
        "id": "IOGdUU1kBU1D"
      },
      "source": [
        "Используем опыт предыдущих экспериментов и напишем собственный токенайзер, улучшив TweetTokenizer. Функция tokenize должна:\n",
        "\n",
        "\n",
        "\n",
        "*   Привести текст в нижний регистр\n",
        "*   Применить TweetTokenizer для изначального выделения токенов\n",
        "*   Удалить стоп-слова, пунктуацию, токены из одного символа, с позицией в таблице Unicode 128 и более и ссылки на t.co\n",
        "\n"
      ]
    },
    {
      "cell_type": "code",
      "source": [
        "def custom_tokenizer(text):\n",
        "\n",
        "  text_lower = text.lower()\n",
        "\n",
        "  tokens = set(TweetTokenizer().tokenize(text_lower))\n",
        "\n",
        "  stop_words_2 = stopwords.words('english')\n",
        "  for word in stop_words_2:\n",
        "    if word in tokens:\n",
        "      tokens.discard(word)\n",
        "\n",
        "  for punct in punctuation:\n",
        "    if punct in tokens:\n",
        "      tokens.discard(punct)\n",
        "\n",
        "  for token in list(tokens):\n",
        "    if (len(token) == 1 and ord(token) >= 128) or (token[0:12] == 'https://t.co'):\n",
        "      tokens.discard(token)\n",
        "\n",
        "  return list(tokens)"
      ],
      "metadata": {
        "id": "DRkBbxOIkm4L"
      },
      "execution_count": null,
      "outputs": []
    },
    {
      "cell_type": "code",
      "execution_count": null,
      "metadata": {
        "id": "XwbgtYkJGYym",
        "colab": {
          "base_uri": "https://localhost:8080/"
        },
        "outputId": "d9128d49-a508-4db6-fb81-b4592586de8f"
      },
      "outputs": [
        {
          "output_type": "execute_result",
          "data": {
            "text/plain": [
              "['text', '#sampletext', 'sample', '@sample_text']"
            ]
          },
          "metadata": {},
          "execution_count": 21
        }
      ],
      "source": [
        "custom_tokenizer('This is sample text!!!! @Sample_text I, \\x92\\x92 https://t.co/sample  #sampletext')"
      ]
    },
    {
      "cell_type": "markdown",
      "metadata": {
        "id": "wURVABmXHk97"
      },
      "source": [
        "## Задание 3 Векторизация текстов (2 балла)"
      ]
    },
    {
      "cell_type": "markdown",
      "metadata": {
        "id": "H44iXkoHIQfN"
      },
      "source": [
        "Обучите CountVectorizer с использованием custom_tokenizer в качестве токенайзера. Как размер полученного словаря соотносится с размером изначального словаря из начала задания 2?"
      ]
    },
    {
      "cell_type": "code",
      "source": [
        "from sklearn.feature_extraction.text import CountVectorizer\n",
        "\n",
        "cv = CountVectorizer(tokenizer=custom_tokenizer)\n",
        "tokens_cv = cv.fit_transform(train['OriginalTweet'])\n",
        "\n",
        "\n",
        "print(len(cv.vocabulary_))"
      ],
      "metadata": {
        "colab": {
          "base_uri": "https://localhost:8080/"
        },
        "id": "gHn_limQl3BI",
        "outputId": "9a382a41-4bc6-4416-b3c4-da98365f0e04"
      },
      "execution_count": null,
      "outputs": [
        {
          "output_type": "stream",
          "name": "stdout",
          "text": [
            "45308\n"
          ]
        }
      ]
    },
    {
      "cell_type": "markdown",
      "metadata": {
        "id": "gsfmaSGoItUm"
      },
      "source": [
        "**Ответ:** он приблизительно в 2 раза меньше."
      ]
    },
    {
      "cell_type": "markdown",
      "metadata": {
        "id": "lm6UHNmqKZT0"
      },
      "source": [
        "Посмотрим на какой-нибудь конкретный твитт:"
      ]
    },
    {
      "cell_type": "code",
      "execution_count": null,
      "metadata": {
        "id": "aJVjjfqOJh8m",
        "colab": {
          "base_uri": "https://localhost:8080/"
        },
        "outputId": "9c0a1bef-7c10-4011-b20d-0c49fc6c9cbd"
      },
      "outputs": [
        {
          "output_type": "execute_result",
          "data": {
            "text/plain": [
              "('Nice one @SkyNews lets not panic but show ppl in france queueing for food!!! #CoronavirusOutbreak #COVID2019 brainless!! Ffs',\n",
              " 0)"
            ]
          },
          "metadata": {},
          "execution_count": 23
        }
      ],
      "source": [
        "ind = 9023\n",
        "train.iloc[ind]['OriginalTweet'], train.iloc[ind]['Sentiment']"
      ]
    },
    {
      "cell_type": "markdown",
      "metadata": {
        "id": "PBMIHBI5KdaS"
      },
      "source": [
        "Автор твитта не доволен ситуацией с едой во Франции и текст имеет резко негативную окраску.\n",
        "\n",
        "Примените обученный CountVectorizer для векторизации данного текста, и попытайтесь определить самый важный токен и самый неважный токен (токен, компонента которого в векторе максимальна/минимальна, без учета 0). Хорошо ли они определились, почему?"
      ]
    },
    {
      "cell_type": "code",
      "execution_count": null,
      "metadata": {
        "id": "7NcAllaEKsJj",
        "colab": {
          "base_uri": "https://localhost:8080/",
          "height": 80
        },
        "outputId": "b795286e-4c4d-40b3-bf0b-41622271e69f"
      },
      "outputs": [
        {
          "output_type": "execute_result",
          "data": {
            "text/plain": [
              "      #coronavirusoutbreak  #covid2019  @skynews  brainless  ffs  food  \\\n",
              "9023                     1           1         1          1    1     1   \n",
              "\n",
              "      france  lets  nice  one  panic  ppl  queueing  show  \n",
              "9023       1     1     1    1      1    1         1     1  "
            ],
            "text/html": [
              "\n",
              "  <div id=\"df-7ad84dc0-4135-462c-a504-2b159ea4ed76\" class=\"colab-df-container\">\n",
              "    <div>\n",
              "<style scoped>\n",
              "    .dataframe tbody tr th:only-of-type {\n",
              "        vertical-align: middle;\n",
              "    }\n",
              "\n",
              "    .dataframe tbody tr th {\n",
              "        vertical-align: top;\n",
              "    }\n",
              "\n",
              "    .dataframe thead th {\n",
              "        text-align: right;\n",
              "    }\n",
              "</style>\n",
              "<table border=\"1\" class=\"dataframe\">\n",
              "  <thead>\n",
              "    <tr style=\"text-align: right;\">\n",
              "      <th></th>\n",
              "      <th>#coronavirusoutbreak</th>\n",
              "      <th>#covid2019</th>\n",
              "      <th>@skynews</th>\n",
              "      <th>brainless</th>\n",
              "      <th>ffs</th>\n",
              "      <th>food</th>\n",
              "      <th>france</th>\n",
              "      <th>lets</th>\n",
              "      <th>nice</th>\n",
              "      <th>one</th>\n",
              "      <th>panic</th>\n",
              "      <th>ppl</th>\n",
              "      <th>queueing</th>\n",
              "      <th>show</th>\n",
              "    </tr>\n",
              "  </thead>\n",
              "  <tbody>\n",
              "    <tr>\n",
              "      <th>9023</th>\n",
              "      <td>1</td>\n",
              "      <td>1</td>\n",
              "      <td>1</td>\n",
              "      <td>1</td>\n",
              "      <td>1</td>\n",
              "      <td>1</td>\n",
              "      <td>1</td>\n",
              "      <td>1</td>\n",
              "      <td>1</td>\n",
              "      <td>1</td>\n",
              "      <td>1</td>\n",
              "      <td>1</td>\n",
              "      <td>1</td>\n",
              "      <td>1</td>\n",
              "    </tr>\n",
              "  </tbody>\n",
              "</table>\n",
              "</div>\n",
              "    <div class=\"colab-df-buttons\">\n",
              "\n",
              "  <div class=\"colab-df-container\">\n",
              "    <button class=\"colab-df-convert\" onclick=\"convertToInteractive('df-7ad84dc0-4135-462c-a504-2b159ea4ed76')\"\n",
              "            title=\"Convert this dataframe to an interactive table.\"\n",
              "            style=\"display:none;\">\n",
              "\n",
              "  <svg xmlns=\"http://www.w3.org/2000/svg\" height=\"24px\" viewBox=\"0 -960 960 960\">\n",
              "    <path d=\"M120-120v-720h720v720H120Zm60-500h600v-160H180v160Zm220 220h160v-160H400v160Zm0 220h160v-160H400v160ZM180-400h160v-160H180v160Zm440 0h160v-160H620v160ZM180-180h160v-160H180v160Zm440 0h160v-160H620v160Z\"/>\n",
              "  </svg>\n",
              "    </button>\n",
              "\n",
              "  <style>\n",
              "    .colab-df-container {\n",
              "      display:flex;\n",
              "      gap: 12px;\n",
              "    }\n",
              "\n",
              "    .colab-df-convert {\n",
              "      background-color: #E8F0FE;\n",
              "      border: none;\n",
              "      border-radius: 50%;\n",
              "      cursor: pointer;\n",
              "      display: none;\n",
              "      fill: #1967D2;\n",
              "      height: 32px;\n",
              "      padding: 0 0 0 0;\n",
              "      width: 32px;\n",
              "    }\n",
              "\n",
              "    .colab-df-convert:hover {\n",
              "      background-color: #E2EBFA;\n",
              "      box-shadow: 0px 1px 2px rgba(60, 64, 67, 0.3), 0px 1px 3px 1px rgba(60, 64, 67, 0.15);\n",
              "      fill: #174EA6;\n",
              "    }\n",
              "\n",
              "    .colab-df-buttons div {\n",
              "      margin-bottom: 4px;\n",
              "    }\n",
              "\n",
              "    [theme=dark] .colab-df-convert {\n",
              "      background-color: #3B4455;\n",
              "      fill: #D2E3FC;\n",
              "    }\n",
              "\n",
              "    [theme=dark] .colab-df-convert:hover {\n",
              "      background-color: #434B5C;\n",
              "      box-shadow: 0px 1px 3px 1px rgba(0, 0, 0, 0.15);\n",
              "      filter: drop-shadow(0px 1px 2px rgba(0, 0, 0, 0.3));\n",
              "      fill: #FFFFFF;\n",
              "    }\n",
              "  </style>\n",
              "\n",
              "    <script>\n",
              "      const buttonEl =\n",
              "        document.querySelector('#df-7ad84dc0-4135-462c-a504-2b159ea4ed76 button.colab-df-convert');\n",
              "      buttonEl.style.display =\n",
              "        google.colab.kernel.accessAllowed ? 'block' : 'none';\n",
              "\n",
              "      async function convertToInteractive(key) {\n",
              "        const element = document.querySelector('#df-7ad84dc0-4135-462c-a504-2b159ea4ed76');\n",
              "        const dataTable =\n",
              "          await google.colab.kernel.invokeFunction('convertToInteractive',\n",
              "                                                    [key], {});\n",
              "        if (!dataTable) return;\n",
              "\n",
              "        const docLinkHtml = 'Like what you see? Visit the ' +\n",
              "          '<a target=\"_blank\" href=https://colab.research.google.com/notebooks/data_table.ipynb>data table notebook</a>'\n",
              "          + ' to learn more about interactive tables.';\n",
              "        element.innerHTML = '';\n",
              "        dataTable['output_type'] = 'display_data';\n",
              "        await google.colab.output.renderOutput(dataTable, element);\n",
              "        const docLink = document.createElement('div');\n",
              "        docLink.innerHTML = docLinkHtml;\n",
              "        element.appendChild(docLink);\n",
              "      }\n",
              "    </script>\n",
              "  </div>\n",
              "\n",
              "    </div>\n",
              "  </div>\n"
            ],
            "application/vnd.google.colaboratory.intrinsic+json": {
              "type": "dataframe",
              "variable_name": "vec",
              "summary": "{\n  \"name\": \"vec\",\n  \"rows\": 1,\n  \"fields\": [\n    {\n      \"column\": \"#coronavirusoutbreak\",\n      \"properties\": {\n        \"dtype\": \"number\",\n        \"std\": null,\n        \"min\": 1,\n        \"max\": 1,\n        \"num_unique_values\": 1,\n        \"samples\": [\n          1\n        ],\n        \"semantic_type\": \"\",\n        \"description\": \"\"\n      }\n    },\n    {\n      \"column\": \"#covid2019\",\n      \"properties\": {\n        \"dtype\": \"number\",\n        \"std\": null,\n        \"min\": 1,\n        \"max\": 1,\n        \"num_unique_values\": 1,\n        \"samples\": [\n          1\n        ],\n        \"semantic_type\": \"\",\n        \"description\": \"\"\n      }\n    },\n    {\n      \"column\": \"@skynews\",\n      \"properties\": {\n        \"dtype\": \"number\",\n        \"std\": null,\n        \"min\": 1,\n        \"max\": 1,\n        \"num_unique_values\": 1,\n        \"samples\": [\n          1\n        ],\n        \"semantic_type\": \"\",\n        \"description\": \"\"\n      }\n    },\n    {\n      \"column\": \"brainless\",\n      \"properties\": {\n        \"dtype\": \"number\",\n        \"std\": null,\n        \"min\": 1,\n        \"max\": 1,\n        \"num_unique_values\": 1,\n        \"samples\": [\n          1\n        ],\n        \"semantic_type\": \"\",\n        \"description\": \"\"\n      }\n    },\n    {\n      \"column\": \"ffs\",\n      \"properties\": {\n        \"dtype\": \"number\",\n        \"std\": null,\n        \"min\": 1,\n        \"max\": 1,\n        \"num_unique_values\": 1,\n        \"samples\": [\n          1\n        ],\n        \"semantic_type\": \"\",\n        \"description\": \"\"\n      }\n    },\n    {\n      \"column\": \"food\",\n      \"properties\": {\n        \"dtype\": \"number\",\n        \"std\": null,\n        \"min\": 1,\n        \"max\": 1,\n        \"num_unique_values\": 1,\n        \"samples\": [\n          1\n        ],\n        \"semantic_type\": \"\",\n        \"description\": \"\"\n      }\n    },\n    {\n      \"column\": \"france\",\n      \"properties\": {\n        \"dtype\": \"number\",\n        \"std\": null,\n        \"min\": 1,\n        \"max\": 1,\n        \"num_unique_values\": 1,\n        \"samples\": [\n          1\n        ],\n        \"semantic_type\": \"\",\n        \"description\": \"\"\n      }\n    },\n    {\n      \"column\": \"lets\",\n      \"properties\": {\n        \"dtype\": \"number\",\n        \"std\": null,\n        \"min\": 1,\n        \"max\": 1,\n        \"num_unique_values\": 1,\n        \"samples\": [\n          1\n        ],\n        \"semantic_type\": \"\",\n        \"description\": \"\"\n      }\n    },\n    {\n      \"column\": \"nice\",\n      \"properties\": {\n        \"dtype\": \"number\",\n        \"std\": null,\n        \"min\": 1,\n        \"max\": 1,\n        \"num_unique_values\": 1,\n        \"samples\": [\n          1\n        ],\n        \"semantic_type\": \"\",\n        \"description\": \"\"\n      }\n    },\n    {\n      \"column\": \"one\",\n      \"properties\": {\n        \"dtype\": \"number\",\n        \"std\": null,\n        \"min\": 1,\n        \"max\": 1,\n        \"num_unique_values\": 1,\n        \"samples\": [\n          1\n        ],\n        \"semantic_type\": \"\",\n        \"description\": \"\"\n      }\n    },\n    {\n      \"column\": \"panic\",\n      \"properties\": {\n        \"dtype\": \"number\",\n        \"std\": null,\n        \"min\": 1,\n        \"max\": 1,\n        \"num_unique_values\": 1,\n        \"samples\": [\n          1\n        ],\n        \"semantic_type\": \"\",\n        \"description\": \"\"\n      }\n    },\n    {\n      \"column\": \"ppl\",\n      \"properties\": {\n        \"dtype\": \"number\",\n        \"std\": null,\n        \"min\": 1,\n        \"max\": 1,\n        \"num_unique_values\": 1,\n        \"samples\": [\n          1\n        ],\n        \"semantic_type\": \"\",\n        \"description\": \"\"\n      }\n    },\n    {\n      \"column\": \"queueing\",\n      \"properties\": {\n        \"dtype\": \"number\",\n        \"std\": null,\n        \"min\": 1,\n        \"max\": 1,\n        \"num_unique_values\": 1,\n        \"samples\": [\n          1\n        ],\n        \"semantic_type\": \"\",\n        \"description\": \"\"\n      }\n    },\n    {\n      \"column\": \"show\",\n      \"properties\": {\n        \"dtype\": \"number\",\n        \"std\": null,\n        \"min\": 1,\n        \"max\": 1,\n        \"num_unique_values\": 1,\n        \"samples\": [\n          1\n        ],\n        \"semantic_type\": \"\",\n        \"description\": \"\"\n      }\n    }\n  ]\n}"
            }
          },
          "metadata": {},
          "execution_count": 24
        }
      ],
      "source": [
        "tweet = (train.iloc[ind]['OriginalTweet']).split()\n",
        "\n",
        "tweet_cv = cv.fit_transform(train['OriginalTweet'])\n",
        "\n",
        "vec = pd.DataFrame(data = tweet_cv.toarray(), columns = cv.get_feature_names_out(tweet)).iloc[[ind]]\n",
        "vec = vec.drop(columns = vec.columns[vec.iloc[0] == 0])\n",
        "vec"
      ]
    },
    {
      "cell_type": "markdown",
      "metadata": {
        "id": "TpEsl1k_NF4T"
      },
      "source": [
        "**Ответ:** видим, что максимальная компонента в векторе у каждого токена - '1', значит, определить важный и неважный токен не получится."
      ]
    },
    {
      "cell_type": "markdown",
      "metadata": {
        "id": "w4DsEQpLO3J6"
      },
      "source": [
        "Теперь примените TfidfVectorizer и  определите самый важный/неважный токены. Хорошо ли определились, почему?"
      ]
    },
    {
      "cell_type": "code",
      "execution_count": null,
      "metadata": {
        "id": "uSNzdK3ENGB3",
        "colab": {
          "base_uri": "https://localhost:8080/",
          "height": 80
        },
        "outputId": "838ba30f-0889-425a-874a-6811362df4a5"
      },
      "outputs": [
        {
          "output_type": "execute_result",
          "data": {
            "text/plain": [
              "      #coronavirusoutbreak  #covid2019  @skynews  brainless       ffs  \\\n",
              "9023              0.225843    0.168252  0.310426   0.386764  0.324474   \n",
              "\n",
              "          food    france      lets      nice       one     panic       ppl  \\\n",
              "9023  0.113289  0.320473  0.301211  0.254273  0.163067  0.147595  0.255006   \n",
              "\n",
              "      queueing      show  \n",
              "9023  0.354346  0.244065  "
            ],
            "text/html": [
              "\n",
              "  <div id=\"df-37044a42-b74a-4ba9-87ac-35aa34bd3af7\" class=\"colab-df-container\">\n",
              "    <div>\n",
              "<style scoped>\n",
              "    .dataframe tbody tr th:only-of-type {\n",
              "        vertical-align: middle;\n",
              "    }\n",
              "\n",
              "    .dataframe tbody tr th {\n",
              "        vertical-align: top;\n",
              "    }\n",
              "\n",
              "    .dataframe thead th {\n",
              "        text-align: right;\n",
              "    }\n",
              "</style>\n",
              "<table border=\"1\" class=\"dataframe\">\n",
              "  <thead>\n",
              "    <tr style=\"text-align: right;\">\n",
              "      <th></th>\n",
              "      <th>#coronavirusoutbreak</th>\n",
              "      <th>#covid2019</th>\n",
              "      <th>@skynews</th>\n",
              "      <th>brainless</th>\n",
              "      <th>ffs</th>\n",
              "      <th>food</th>\n",
              "      <th>france</th>\n",
              "      <th>lets</th>\n",
              "      <th>nice</th>\n",
              "      <th>one</th>\n",
              "      <th>panic</th>\n",
              "      <th>ppl</th>\n",
              "      <th>queueing</th>\n",
              "      <th>show</th>\n",
              "    </tr>\n",
              "  </thead>\n",
              "  <tbody>\n",
              "    <tr>\n",
              "      <th>9023</th>\n",
              "      <td>0.225843</td>\n",
              "      <td>0.168252</td>\n",
              "      <td>0.310426</td>\n",
              "      <td>0.386764</td>\n",
              "      <td>0.324474</td>\n",
              "      <td>0.113289</td>\n",
              "      <td>0.320473</td>\n",
              "      <td>0.301211</td>\n",
              "      <td>0.254273</td>\n",
              "      <td>0.163067</td>\n",
              "      <td>0.147595</td>\n",
              "      <td>0.255006</td>\n",
              "      <td>0.354346</td>\n",
              "      <td>0.244065</td>\n",
              "    </tr>\n",
              "  </tbody>\n",
              "</table>\n",
              "</div>\n",
              "    <div class=\"colab-df-buttons\">\n",
              "\n",
              "  <div class=\"colab-df-container\">\n",
              "    <button class=\"colab-df-convert\" onclick=\"convertToInteractive('df-37044a42-b74a-4ba9-87ac-35aa34bd3af7')\"\n",
              "            title=\"Convert this dataframe to an interactive table.\"\n",
              "            style=\"display:none;\">\n",
              "\n",
              "  <svg xmlns=\"http://www.w3.org/2000/svg\" height=\"24px\" viewBox=\"0 -960 960 960\">\n",
              "    <path d=\"M120-120v-720h720v720H120Zm60-500h600v-160H180v160Zm220 220h160v-160H400v160Zm0 220h160v-160H400v160ZM180-400h160v-160H180v160Zm440 0h160v-160H620v160ZM180-180h160v-160H180v160Zm440 0h160v-160H620v160Z\"/>\n",
              "  </svg>\n",
              "    </button>\n",
              "\n",
              "  <style>\n",
              "    .colab-df-container {\n",
              "      display:flex;\n",
              "      gap: 12px;\n",
              "    }\n",
              "\n",
              "    .colab-df-convert {\n",
              "      background-color: #E8F0FE;\n",
              "      border: none;\n",
              "      border-radius: 50%;\n",
              "      cursor: pointer;\n",
              "      display: none;\n",
              "      fill: #1967D2;\n",
              "      height: 32px;\n",
              "      padding: 0 0 0 0;\n",
              "      width: 32px;\n",
              "    }\n",
              "\n",
              "    .colab-df-convert:hover {\n",
              "      background-color: #E2EBFA;\n",
              "      box-shadow: 0px 1px 2px rgba(60, 64, 67, 0.3), 0px 1px 3px 1px rgba(60, 64, 67, 0.15);\n",
              "      fill: #174EA6;\n",
              "    }\n",
              "\n",
              "    .colab-df-buttons div {\n",
              "      margin-bottom: 4px;\n",
              "    }\n",
              "\n",
              "    [theme=dark] .colab-df-convert {\n",
              "      background-color: #3B4455;\n",
              "      fill: #D2E3FC;\n",
              "    }\n",
              "\n",
              "    [theme=dark] .colab-df-convert:hover {\n",
              "      background-color: #434B5C;\n",
              "      box-shadow: 0px 1px 3px 1px rgba(0, 0, 0, 0.15);\n",
              "      filter: drop-shadow(0px 1px 2px rgba(0, 0, 0, 0.3));\n",
              "      fill: #FFFFFF;\n",
              "    }\n",
              "  </style>\n",
              "\n",
              "    <script>\n",
              "      const buttonEl =\n",
              "        document.querySelector('#df-37044a42-b74a-4ba9-87ac-35aa34bd3af7 button.colab-df-convert');\n",
              "      buttonEl.style.display =\n",
              "        google.colab.kernel.accessAllowed ? 'block' : 'none';\n",
              "\n",
              "      async function convertToInteractive(key) {\n",
              "        const element = document.querySelector('#df-37044a42-b74a-4ba9-87ac-35aa34bd3af7');\n",
              "        const dataTable =\n",
              "          await google.colab.kernel.invokeFunction('convertToInteractive',\n",
              "                                                    [key], {});\n",
              "        if (!dataTable) return;\n",
              "\n",
              "        const docLinkHtml = 'Like what you see? Visit the ' +\n",
              "          '<a target=\"_blank\" href=https://colab.research.google.com/notebooks/data_table.ipynb>data table notebook</a>'\n",
              "          + ' to learn more about interactive tables.';\n",
              "        element.innerHTML = '';\n",
              "        dataTable['output_type'] = 'display_data';\n",
              "        await google.colab.output.renderOutput(dataTable, element);\n",
              "        const docLink = document.createElement('div');\n",
              "        docLink.innerHTML = docLinkHtml;\n",
              "        element.appendChild(docLink);\n",
              "      }\n",
              "    </script>\n",
              "  </div>\n",
              "\n",
              "    </div>\n",
              "  </div>\n"
            ],
            "application/vnd.google.colaboratory.intrinsic+json": {
              "type": "dataframe",
              "variable_name": "vec_1",
              "summary": "{\n  \"name\": \"vec_1\",\n  \"rows\": 1,\n  \"fields\": [\n    {\n      \"column\": \"#coronavirusoutbreak\",\n      \"properties\": {\n        \"dtype\": \"number\",\n        \"std\": null,\n        \"min\": 0.22584265007428544,\n        \"max\": 0.22584265007428544,\n        \"num_unique_values\": 1,\n        \"samples\": [\n          0.22584265007428544\n        ],\n        \"semantic_type\": \"\",\n        \"description\": \"\"\n      }\n    },\n    {\n      \"column\": \"#covid2019\",\n      \"properties\": {\n        \"dtype\": \"number\",\n        \"std\": null,\n        \"min\": 0.16825192939361902,\n        \"max\": 0.16825192939361902,\n        \"num_unique_values\": 1,\n        \"samples\": [\n          0.16825192939361902\n        ],\n        \"semantic_type\": \"\",\n        \"description\": \"\"\n      }\n    },\n    {\n      \"column\": \"@skynews\",\n      \"properties\": {\n        \"dtype\": \"number\",\n        \"std\": null,\n        \"min\": 0.31042634466284263,\n        \"max\": 0.31042634466284263,\n        \"num_unique_values\": 1,\n        \"samples\": [\n          0.31042634466284263\n        ],\n        \"semantic_type\": \"\",\n        \"description\": \"\"\n      }\n    },\n    {\n      \"column\": \"brainless\",\n      \"properties\": {\n        \"dtype\": \"number\",\n        \"std\": null,\n        \"min\": 0.3867641170466375,\n        \"max\": 0.3867641170466375,\n        \"num_unique_values\": 1,\n        \"samples\": [\n          0.3867641170466375\n        ],\n        \"semantic_type\": \"\",\n        \"description\": \"\"\n      }\n    },\n    {\n      \"column\": \"ffs\",\n      \"properties\": {\n        \"dtype\": \"number\",\n        \"std\": null,\n        \"min\": 0.3244741764513268,\n        \"max\": 0.3244741764513268,\n        \"num_unique_values\": 1,\n        \"samples\": [\n          0.3244741764513268\n        ],\n        \"semantic_type\": \"\",\n        \"description\": \"\"\n      }\n    },\n    {\n      \"column\": \"food\",\n      \"properties\": {\n        \"dtype\": \"number\",\n        \"std\": null,\n        \"min\": 0.11328893069250721,\n        \"max\": 0.11328893069250721,\n        \"num_unique_values\": 1,\n        \"samples\": [\n          0.11328893069250721\n        ],\n        \"semantic_type\": \"\",\n        \"description\": \"\"\n      }\n    },\n    {\n      \"column\": \"france\",\n      \"properties\": {\n        \"dtype\": \"number\",\n        \"std\": null,\n        \"min\": 0.32047314046539654,\n        \"max\": 0.32047314046539654,\n        \"num_unique_values\": 1,\n        \"samples\": [\n          0.32047314046539654\n        ],\n        \"semantic_type\": \"\",\n        \"description\": \"\"\n      }\n    },\n    {\n      \"column\": \"lets\",\n      \"properties\": {\n        \"dtype\": \"number\",\n        \"std\": null,\n        \"min\": 0.30121070136861045,\n        \"max\": 0.30121070136861045,\n        \"num_unique_values\": 1,\n        \"samples\": [\n          0.30121070136861045\n        ],\n        \"semantic_type\": \"\",\n        \"description\": \"\"\n      }\n    },\n    {\n      \"column\": \"nice\",\n      \"properties\": {\n        \"dtype\": \"number\",\n        \"std\": null,\n        \"min\": 0.2542729176022132,\n        \"max\": 0.2542729176022132,\n        \"num_unique_values\": 1,\n        \"samples\": [\n          0.2542729176022132\n        ],\n        \"semantic_type\": \"\",\n        \"description\": \"\"\n      }\n    },\n    {\n      \"column\": \"one\",\n      \"properties\": {\n        \"dtype\": \"number\",\n        \"std\": null,\n        \"min\": 0.16306722855395073,\n        \"max\": 0.16306722855395073,\n        \"num_unique_values\": 1,\n        \"samples\": [\n          0.16306722855395073\n        ],\n        \"semantic_type\": \"\",\n        \"description\": \"\"\n      }\n    },\n    {\n      \"column\": \"panic\",\n      \"properties\": {\n        \"dtype\": \"number\",\n        \"std\": null,\n        \"min\": 0.14759470306326164,\n        \"max\": 0.14759470306326164,\n        \"num_unique_values\": 1,\n        \"samples\": [\n          0.14759470306326164\n        ],\n        \"semantic_type\": \"\",\n        \"description\": \"\"\n      }\n    },\n    {\n      \"column\": \"ppl\",\n      \"properties\": {\n        \"dtype\": \"number\",\n        \"std\": null,\n        \"min\": 0.2550064610386691,\n        \"max\": 0.2550064610386691,\n        \"num_unique_values\": 1,\n        \"samples\": [\n          0.2550064610386691\n        ],\n        \"semantic_type\": \"\",\n        \"description\": \"\"\n      }\n    },\n    {\n      \"column\": \"queueing\",\n      \"properties\": {\n        \"dtype\": \"number\",\n        \"std\": null,\n        \"min\": 0.35434556333216544,\n        \"max\": 0.35434556333216544,\n        \"num_unique_values\": 1,\n        \"samples\": [\n          0.35434556333216544\n        ],\n        \"semantic_type\": \"\",\n        \"description\": \"\"\n      }\n    },\n    {\n      \"column\": \"show\",\n      \"properties\": {\n        \"dtype\": \"number\",\n        \"std\": null,\n        \"min\": 0.24406492401820118,\n        \"max\": 0.24406492401820118,\n        \"num_unique_values\": 1,\n        \"samples\": [\n          0.24406492401820118\n        ],\n        \"semantic_type\": \"\",\n        \"description\": \"\"\n      }\n    }\n  ]\n}"
            }
          },
          "metadata": {},
          "execution_count": 25
        }
      ],
      "source": [
        "from sklearn.feature_extraction.text import TfidfVectorizer\n",
        "\n",
        "tv = TfidfVectorizer(tokenizer = custom_tokenizer)\n",
        "\n",
        "t_v_train = tv.fit_transform(train['OriginalTweet'])\n",
        "\n",
        "vec_1 = pd.DataFrame(data=t_v_train.toarray(), columns=tv.get_feature_names_out()).iloc[[ind]]\n",
        "vec_1 = vec_1.drop(columns=vec_1.columns[vec_1.iloc[0] == 0])\n",
        "vec_1"
      ]
    },
    {
      "cell_type": "code",
      "source": [
        "#токен с самым большим весом\n",
        "print(vec_1.idxmax(axis = 1))\n",
        "print(vec_1.max(axis = 1))"
      ],
      "metadata": {
        "colab": {
          "base_uri": "https://localhost:8080/"
        },
        "id": "k-eJt8wKVW_g",
        "outputId": "4d315189-fa1c-4df6-b2db-8aef1697d264"
      },
      "execution_count": null,
      "outputs": [
        {
          "output_type": "stream",
          "name": "stdout",
          "text": [
            "9023    brainless\n",
            "dtype: object\n",
            "9023    0.386764\n",
            "dtype: float64\n"
          ]
        }
      ]
    },
    {
      "cell_type": "code",
      "source": [
        "#токен с самым маленьким весом\n",
        "print(vec_1.idxmin(axis = 1))\n",
        "print(vec_1.min(axis = 1))"
      ],
      "metadata": {
        "colab": {
          "base_uri": "https://localhost:8080/"
        },
        "id": "KYpoovjzVgav",
        "outputId": "d8e0b1d3-af26-44b0-d1bf-7686d882fd88"
      },
      "execution_count": null,
      "outputs": [
        {
          "output_type": "stream",
          "name": "stdout",
          "text": [
            "9023    food\n",
            "dtype: object\n",
            "9023    0.113289\n",
            "dtype: float64\n"
          ]
        }
      ]
    },
    {
      "cell_type": "markdown",
      "metadata": {
        "id": "NYao_UhqQADm"
      },
      "source": [
        "**Ответ:** важный токен - 'brainless', так как он имеет наибольший вес среди других токенов; неважный токен - 'food', так как он имеет наименьший вес среди других токенов."
      ]
    },
    {
      "cell_type": "markdown",
      "metadata": {
        "id": "LGRJPqfWSesQ"
      },
      "source": [
        "Найдите какой-нибудь положительно окрашенный твитт, где TfidfVectorizer хорошо (полезно для определения окраски) выделяет важный токен, поясните пример.\n",
        "\n",
        "*Подсказка:* явно положительные твитты можно искать при помощи положительных слов (good, great, amazing и т. д.)"
      ]
    },
    {
      "cell_type": "code",
      "execution_count": null,
      "metadata": {
        "id": "bRbQ2CHiSuJI",
        "colab": {
          "base_uri": "https://localhost:8080/",
          "height": 419
        },
        "outputId": "aec5f68d-3a0d-44ea-b568-4ae42c792162"
      },
      "outputs": [
        {
          "output_type": "execute_result",
          "data": {
            "text/plain": [
              "       UserName  ScreenName                      Location     TweetAt  \\\n",
              "7798      13276       58228                            NY  20-03-2020   \n",
              "23623     32655       77607                 Kerala, India  05-04-2020   \n",
              "15578     22743       67695  ÃÂT: 33.143271,-117.107195  24-03-2020   \n",
              "12781     19294       64246          Hallandale Beach, FL  22-03-2020   \n",
              "18673     26532       71484                       Unknown  25-03-2020   \n",
              "...         ...         ...                           ...         ...   \n",
              "23836     32933       77885                  New York, NY  05-04-2020   \n",
              "20177     28401       73353                    everywhere  26-03-2020   \n",
              "24729     34063       79015      United States of America  06-04-2020   \n",
              "22302     31046       75998    North Miami Beach, Florida  03-04-2020   \n",
              "5208      10126       55078                       Unknown  19-03-2020   \n",
              "\n",
              "                                           OriginalTweet  Sentiment  \n",
              "7798   Please don't claim to support all the doctors,...          1  \n",
              "23623  I've just posted a new blog: After recovery, O...          1  \n",
              "15578  In the spirit of Animal Crossing crafting and ...          1  \n",
              "12781  We should be thankful to our first responders,...          1  \n",
              "18673  Thank you doctors, nurses, health care helpers...          1  \n",
              "...                                                  ...        ...  \n",
              "23836  LetÃÂs thank the #supermarket #store #restau...          1  \n",
              "20177  We canÃÂt thank them enough!! #nhs #nurses #...          1  \n",
              "24729  @Acosta ThatÃÂs very telling. Also telling i...          1  \n",
              "22302  ÃÂAn apple a day keeps the doctor away.ÃÂ ...          1  \n",
              "5208   There's some amazing work going on in the worl...          1  \n",
              "\n",
              "[153 rows x 6 columns]"
            ],
            "text/html": [
              "\n",
              "  <div id=\"df-494a9515-c177-423f-bff3-c75b6149d112\" class=\"colab-df-container\">\n",
              "    <div>\n",
              "<style scoped>\n",
              "    .dataframe tbody tr th:only-of-type {\n",
              "        vertical-align: middle;\n",
              "    }\n",
              "\n",
              "    .dataframe tbody tr th {\n",
              "        vertical-align: top;\n",
              "    }\n",
              "\n",
              "    .dataframe thead th {\n",
              "        text-align: right;\n",
              "    }\n",
              "</style>\n",
              "<table border=\"1\" class=\"dataframe\">\n",
              "  <thead>\n",
              "    <tr style=\"text-align: right;\">\n",
              "      <th></th>\n",
              "      <th>UserName</th>\n",
              "      <th>ScreenName</th>\n",
              "      <th>Location</th>\n",
              "      <th>TweetAt</th>\n",
              "      <th>OriginalTweet</th>\n",
              "      <th>Sentiment</th>\n",
              "    </tr>\n",
              "  </thead>\n",
              "  <tbody>\n",
              "    <tr>\n",
              "      <th>7798</th>\n",
              "      <td>13276</td>\n",
              "      <td>58228</td>\n",
              "      <td>NY</td>\n",
              "      <td>20-03-2020</td>\n",
              "      <td>Please don't claim to support all the doctors,...</td>\n",
              "      <td>1</td>\n",
              "    </tr>\n",
              "    <tr>\n",
              "      <th>23623</th>\n",
              "      <td>32655</td>\n",
              "      <td>77607</td>\n",
              "      <td>Kerala, India</td>\n",
              "      <td>05-04-2020</td>\n",
              "      <td>I've just posted a new blog: After recovery, O...</td>\n",
              "      <td>1</td>\n",
              "    </tr>\n",
              "    <tr>\n",
              "      <th>15578</th>\n",
              "      <td>22743</td>\n",
              "      <td>67695</td>\n",
              "      <td>ÃÂT: 33.143271,-117.107195</td>\n",
              "      <td>24-03-2020</td>\n",
              "      <td>In the spirit of Animal Crossing crafting and ...</td>\n",
              "      <td>1</td>\n",
              "    </tr>\n",
              "    <tr>\n",
              "      <th>12781</th>\n",
              "      <td>19294</td>\n",
              "      <td>64246</td>\n",
              "      <td>Hallandale Beach, FL</td>\n",
              "      <td>22-03-2020</td>\n",
              "      <td>We should be thankful to our first responders,...</td>\n",
              "      <td>1</td>\n",
              "    </tr>\n",
              "    <tr>\n",
              "      <th>18673</th>\n",
              "      <td>26532</td>\n",
              "      <td>71484</td>\n",
              "      <td>Unknown</td>\n",
              "      <td>25-03-2020</td>\n",
              "      <td>Thank you doctors, nurses, health care helpers...</td>\n",
              "      <td>1</td>\n",
              "    </tr>\n",
              "    <tr>\n",
              "      <th>...</th>\n",
              "      <td>...</td>\n",
              "      <td>...</td>\n",
              "      <td>...</td>\n",
              "      <td>...</td>\n",
              "      <td>...</td>\n",
              "      <td>...</td>\n",
              "    </tr>\n",
              "    <tr>\n",
              "      <th>23836</th>\n",
              "      <td>32933</td>\n",
              "      <td>77885</td>\n",
              "      <td>New York, NY</td>\n",
              "      <td>05-04-2020</td>\n",
              "      <td>LetÃÂs thank the #supermarket #store #restau...</td>\n",
              "      <td>1</td>\n",
              "    </tr>\n",
              "    <tr>\n",
              "      <th>20177</th>\n",
              "      <td>28401</td>\n",
              "      <td>73353</td>\n",
              "      <td>everywhere</td>\n",
              "      <td>26-03-2020</td>\n",
              "      <td>We canÃÂt thank them enough!! #nhs #nurses #...</td>\n",
              "      <td>1</td>\n",
              "    </tr>\n",
              "    <tr>\n",
              "      <th>24729</th>\n",
              "      <td>34063</td>\n",
              "      <td>79015</td>\n",
              "      <td>United States of America</td>\n",
              "      <td>06-04-2020</td>\n",
              "      <td>@Acosta ThatÃÂs very telling. Also telling i...</td>\n",
              "      <td>1</td>\n",
              "    </tr>\n",
              "    <tr>\n",
              "      <th>22302</th>\n",
              "      <td>31046</td>\n",
              "      <td>75998</td>\n",
              "      <td>North Miami Beach, Florida</td>\n",
              "      <td>03-04-2020</td>\n",
              "      <td>ÃÂAn apple a day keeps the doctor away.ÃÂ ...</td>\n",
              "      <td>1</td>\n",
              "    </tr>\n",
              "    <tr>\n",
              "      <th>5208</th>\n",
              "      <td>10126</td>\n",
              "      <td>55078</td>\n",
              "      <td>Unknown</td>\n",
              "      <td>19-03-2020</td>\n",
              "      <td>There's some amazing work going on in the worl...</td>\n",
              "      <td>1</td>\n",
              "    </tr>\n",
              "  </tbody>\n",
              "</table>\n",
              "<p>153 rows × 6 columns</p>\n",
              "</div>\n",
              "    <div class=\"colab-df-buttons\">\n",
              "\n",
              "  <div class=\"colab-df-container\">\n",
              "    <button class=\"colab-df-convert\" onclick=\"convertToInteractive('df-494a9515-c177-423f-bff3-c75b6149d112')\"\n",
              "            title=\"Convert this dataframe to an interactive table.\"\n",
              "            style=\"display:none;\">\n",
              "\n",
              "  <svg xmlns=\"http://www.w3.org/2000/svg\" height=\"24px\" viewBox=\"0 -960 960 960\">\n",
              "    <path d=\"M120-120v-720h720v720H120Zm60-500h600v-160H180v160Zm220 220h160v-160H400v160Zm0 220h160v-160H400v160ZM180-400h160v-160H180v160Zm440 0h160v-160H620v160ZM180-180h160v-160H180v160Zm440 0h160v-160H620v160Z\"/>\n",
              "  </svg>\n",
              "    </button>\n",
              "\n",
              "  <style>\n",
              "    .colab-df-container {\n",
              "      display:flex;\n",
              "      gap: 12px;\n",
              "    }\n",
              "\n",
              "    .colab-df-convert {\n",
              "      background-color: #E8F0FE;\n",
              "      border: none;\n",
              "      border-radius: 50%;\n",
              "      cursor: pointer;\n",
              "      display: none;\n",
              "      fill: #1967D2;\n",
              "      height: 32px;\n",
              "      padding: 0 0 0 0;\n",
              "      width: 32px;\n",
              "    }\n",
              "\n",
              "    .colab-df-convert:hover {\n",
              "      background-color: #E2EBFA;\n",
              "      box-shadow: 0px 1px 2px rgba(60, 64, 67, 0.3), 0px 1px 3px 1px rgba(60, 64, 67, 0.15);\n",
              "      fill: #174EA6;\n",
              "    }\n",
              "\n",
              "    .colab-df-buttons div {\n",
              "      margin-bottom: 4px;\n",
              "    }\n",
              "\n",
              "    [theme=dark] .colab-df-convert {\n",
              "      background-color: #3B4455;\n",
              "      fill: #D2E3FC;\n",
              "    }\n",
              "\n",
              "    [theme=dark] .colab-df-convert:hover {\n",
              "      background-color: #434B5C;\n",
              "      box-shadow: 0px 1px 3px 1px rgba(0, 0, 0, 0.15);\n",
              "      filter: drop-shadow(0px 1px 2px rgba(0, 0, 0, 0.3));\n",
              "      fill: #FFFFFF;\n",
              "    }\n",
              "  </style>\n",
              "\n",
              "    <script>\n",
              "      const buttonEl =\n",
              "        document.querySelector('#df-494a9515-c177-423f-bff3-c75b6149d112 button.colab-df-convert');\n",
              "      buttonEl.style.display =\n",
              "        google.colab.kernel.accessAllowed ? 'block' : 'none';\n",
              "\n",
              "      async function convertToInteractive(key) {\n",
              "        const element = document.querySelector('#df-494a9515-c177-423f-bff3-c75b6149d112');\n",
              "        const dataTable =\n",
              "          await google.colab.kernel.invokeFunction('convertToInteractive',\n",
              "                                                    [key], {});\n",
              "        if (!dataTable) return;\n",
              "\n",
              "        const docLinkHtml = 'Like what you see? Visit the ' +\n",
              "          '<a target=\"_blank\" href=https://colab.research.google.com/notebooks/data_table.ipynb>data table notebook</a>'\n",
              "          + ' to learn more about interactive tables.';\n",
              "        element.innerHTML = '';\n",
              "        dataTable['output_type'] = 'display_data';\n",
              "        await google.colab.output.renderOutput(dataTable, element);\n",
              "        const docLink = document.createElement('div');\n",
              "        docLink.innerHTML = docLinkHtml;\n",
              "        element.appendChild(docLink);\n",
              "      }\n",
              "    </script>\n",
              "  </div>\n",
              "\n",
              "\n",
              "<div id=\"df-cc92e9e4-b4ad-4f9b-893f-8ad2370b14f5\">\n",
              "  <button class=\"colab-df-quickchart\" onclick=\"quickchart('df-cc92e9e4-b4ad-4f9b-893f-8ad2370b14f5')\"\n",
              "            title=\"Suggest charts\"\n",
              "            style=\"display:none;\">\n",
              "\n",
              "<svg xmlns=\"http://www.w3.org/2000/svg\" height=\"24px\"viewBox=\"0 0 24 24\"\n",
              "     width=\"24px\">\n",
              "    <g>\n",
              "        <path d=\"M19 3H5c-1.1 0-2 .9-2 2v14c0 1.1.9 2 2 2h14c1.1 0 2-.9 2-2V5c0-1.1-.9-2-2-2zM9 17H7v-7h2v7zm4 0h-2V7h2v10zm4 0h-2v-4h2v4z\"/>\n",
              "    </g>\n",
              "</svg>\n",
              "  </button>\n",
              "\n",
              "<style>\n",
              "  .colab-df-quickchart {\n",
              "      --bg-color: #E8F0FE;\n",
              "      --fill-color: #1967D2;\n",
              "      --hover-bg-color: #E2EBFA;\n",
              "      --hover-fill-color: #174EA6;\n",
              "      --disabled-fill-color: #AAA;\n",
              "      --disabled-bg-color: #DDD;\n",
              "  }\n",
              "\n",
              "  [theme=dark] .colab-df-quickchart {\n",
              "      --bg-color: #3B4455;\n",
              "      --fill-color: #D2E3FC;\n",
              "      --hover-bg-color: #434B5C;\n",
              "      --hover-fill-color: #FFFFFF;\n",
              "      --disabled-bg-color: #3B4455;\n",
              "      --disabled-fill-color: #666;\n",
              "  }\n",
              "\n",
              "  .colab-df-quickchart {\n",
              "    background-color: var(--bg-color);\n",
              "    border: none;\n",
              "    border-radius: 50%;\n",
              "    cursor: pointer;\n",
              "    display: none;\n",
              "    fill: var(--fill-color);\n",
              "    height: 32px;\n",
              "    padding: 0;\n",
              "    width: 32px;\n",
              "  }\n",
              "\n",
              "  .colab-df-quickchart:hover {\n",
              "    background-color: var(--hover-bg-color);\n",
              "    box-shadow: 0 1px 2px rgba(60, 64, 67, 0.3), 0 1px 3px 1px rgba(60, 64, 67, 0.15);\n",
              "    fill: var(--button-hover-fill-color);\n",
              "  }\n",
              "\n",
              "  .colab-df-quickchart-complete:disabled,\n",
              "  .colab-df-quickchart-complete:disabled:hover {\n",
              "    background-color: var(--disabled-bg-color);\n",
              "    fill: var(--disabled-fill-color);\n",
              "    box-shadow: none;\n",
              "  }\n",
              "\n",
              "  .colab-df-spinner {\n",
              "    border: 2px solid var(--fill-color);\n",
              "    border-color: transparent;\n",
              "    border-bottom-color: var(--fill-color);\n",
              "    animation:\n",
              "      spin 1s steps(1) infinite;\n",
              "  }\n",
              "\n",
              "  @keyframes spin {\n",
              "    0% {\n",
              "      border-color: transparent;\n",
              "      border-bottom-color: var(--fill-color);\n",
              "      border-left-color: var(--fill-color);\n",
              "    }\n",
              "    20% {\n",
              "      border-color: transparent;\n",
              "      border-left-color: var(--fill-color);\n",
              "      border-top-color: var(--fill-color);\n",
              "    }\n",
              "    30% {\n",
              "      border-color: transparent;\n",
              "      border-left-color: var(--fill-color);\n",
              "      border-top-color: var(--fill-color);\n",
              "      border-right-color: var(--fill-color);\n",
              "    }\n",
              "    40% {\n",
              "      border-color: transparent;\n",
              "      border-right-color: var(--fill-color);\n",
              "      border-top-color: var(--fill-color);\n",
              "    }\n",
              "    60% {\n",
              "      border-color: transparent;\n",
              "      border-right-color: var(--fill-color);\n",
              "    }\n",
              "    80% {\n",
              "      border-color: transparent;\n",
              "      border-right-color: var(--fill-color);\n",
              "      border-bottom-color: var(--fill-color);\n",
              "    }\n",
              "    90% {\n",
              "      border-color: transparent;\n",
              "      border-bottom-color: var(--fill-color);\n",
              "    }\n",
              "  }\n",
              "</style>\n",
              "\n",
              "  <script>\n",
              "    async function quickchart(key) {\n",
              "      const quickchartButtonEl =\n",
              "        document.querySelector('#' + key + ' button');\n",
              "      quickchartButtonEl.disabled = true;  // To prevent multiple clicks.\n",
              "      quickchartButtonEl.classList.add('colab-df-spinner');\n",
              "      try {\n",
              "        const charts = await google.colab.kernel.invokeFunction(\n",
              "            'suggestCharts', [key], {});\n",
              "      } catch (error) {\n",
              "        console.error('Error during call to suggestCharts:', error);\n",
              "      }\n",
              "      quickchartButtonEl.classList.remove('colab-df-spinner');\n",
              "      quickchartButtonEl.classList.add('colab-df-quickchart-complete');\n",
              "    }\n",
              "    (() => {\n",
              "      let quickchartButtonEl =\n",
              "        document.querySelector('#df-cc92e9e4-b4ad-4f9b-893f-8ad2370b14f5 button');\n",
              "      quickchartButtonEl.style.display =\n",
              "        google.colab.kernel.accessAllowed ? 'block' : 'none';\n",
              "    })();\n",
              "  </script>\n",
              "</div>\n",
              "    </div>\n",
              "  </div>\n"
            ],
            "application/vnd.google.colaboratory.intrinsic+json": {
              "type": "dataframe",
              "repr_error": "0"
            }
          },
          "metadata": {},
          "execution_count": 28
        }
      ],
      "source": [
        "train[train['OriginalTweet'].apply(lambda x: 'doctor' in x) & (train['Sentiment'] == 1)]"
      ]
    },
    {
      "cell_type": "code",
      "source": [
        "ind_1 = 18673\n",
        "\n",
        "vec_2 = pd.DataFrame(t_v_train.toarray(), columns=tv.get_feature_names_out()).loc[[ind_1]]\n",
        "vec_2 = vec_2.drop(columns=vec_2.columns[vec_2.iloc[0] == 0])\n",
        "vec_2"
      ],
      "metadata": {
        "id": "jSjbKPCWk87K",
        "colab": {
          "base_uri": "https://localhost:8080/",
          "height": 80
        },
        "outputId": "4ac4f3c8-05f7-40c9-96f6-62c131e4e007"
      },
      "execution_count": null,
      "outputs": [
        {
          "output_type": "execute_result",
          "data": {
            "text/plain": [
              "             12  followers  important  interview    listen      mins  \\\n",
              "18673  0.323407   0.422877   0.274167   0.374503  0.334468  0.430122   \n",
              "\n",
              "         please        rt      time  \n",
              "18673  0.207359  0.351034  0.195106  "
            ],
            "text/html": [
              "\n",
              "  <div id=\"df-9cf7a5a1-5fc8-4d71-b02e-a5eaf175b002\" class=\"colab-df-container\">\n",
              "    <div>\n",
              "<style scoped>\n",
              "    .dataframe tbody tr th:only-of-type {\n",
              "        vertical-align: middle;\n",
              "    }\n",
              "\n",
              "    .dataframe tbody tr th {\n",
              "        vertical-align: top;\n",
              "    }\n",
              "\n",
              "    .dataframe thead th {\n",
              "        text-align: right;\n",
              "    }\n",
              "</style>\n",
              "<table border=\"1\" class=\"dataframe\">\n",
              "  <thead>\n",
              "    <tr style=\"text-align: right;\">\n",
              "      <th></th>\n",
              "      <th>12</th>\n",
              "      <th>followers</th>\n",
              "      <th>important</th>\n",
              "      <th>interview</th>\n",
              "      <th>listen</th>\n",
              "      <th>mins</th>\n",
              "      <th>please</th>\n",
              "      <th>rt</th>\n",
              "      <th>time</th>\n",
              "    </tr>\n",
              "  </thead>\n",
              "  <tbody>\n",
              "    <tr>\n",
              "      <th>18673</th>\n",
              "      <td>0.323407</td>\n",
              "      <td>0.422877</td>\n",
              "      <td>0.274167</td>\n",
              "      <td>0.374503</td>\n",
              "      <td>0.334468</td>\n",
              "      <td>0.430122</td>\n",
              "      <td>0.207359</td>\n",
              "      <td>0.351034</td>\n",
              "      <td>0.195106</td>\n",
              "    </tr>\n",
              "  </tbody>\n",
              "</table>\n",
              "</div>\n",
              "    <div class=\"colab-df-buttons\">\n",
              "\n",
              "  <div class=\"colab-df-container\">\n",
              "    <button class=\"colab-df-convert\" onclick=\"convertToInteractive('df-9cf7a5a1-5fc8-4d71-b02e-a5eaf175b002')\"\n",
              "            title=\"Convert this dataframe to an interactive table.\"\n",
              "            style=\"display:none;\">\n",
              "\n",
              "  <svg xmlns=\"http://www.w3.org/2000/svg\" height=\"24px\" viewBox=\"0 -960 960 960\">\n",
              "    <path d=\"M120-120v-720h720v720H120Zm60-500h600v-160H180v160Zm220 220h160v-160H400v160Zm0 220h160v-160H400v160ZM180-400h160v-160H180v160Zm440 0h160v-160H620v160ZM180-180h160v-160H180v160Zm440 0h160v-160H620v160Z\"/>\n",
              "  </svg>\n",
              "    </button>\n",
              "\n",
              "  <style>\n",
              "    .colab-df-container {\n",
              "      display:flex;\n",
              "      gap: 12px;\n",
              "    }\n",
              "\n",
              "    .colab-df-convert {\n",
              "      background-color: #E8F0FE;\n",
              "      border: none;\n",
              "      border-radius: 50%;\n",
              "      cursor: pointer;\n",
              "      display: none;\n",
              "      fill: #1967D2;\n",
              "      height: 32px;\n",
              "      padding: 0 0 0 0;\n",
              "      width: 32px;\n",
              "    }\n",
              "\n",
              "    .colab-df-convert:hover {\n",
              "      background-color: #E2EBFA;\n",
              "      box-shadow: 0px 1px 2px rgba(60, 64, 67, 0.3), 0px 1px 3px 1px rgba(60, 64, 67, 0.15);\n",
              "      fill: #174EA6;\n",
              "    }\n",
              "\n",
              "    .colab-df-buttons div {\n",
              "      margin-bottom: 4px;\n",
              "    }\n",
              "\n",
              "    [theme=dark] .colab-df-convert {\n",
              "      background-color: #3B4455;\n",
              "      fill: #D2E3FC;\n",
              "    }\n",
              "\n",
              "    [theme=dark] .colab-df-convert:hover {\n",
              "      background-color: #434B5C;\n",
              "      box-shadow: 0px 1px 3px 1px rgba(0, 0, 0, 0.15);\n",
              "      filter: drop-shadow(0px 1px 2px rgba(0, 0, 0, 0.3));\n",
              "      fill: #FFFFFF;\n",
              "    }\n",
              "  </style>\n",
              "\n",
              "    <script>\n",
              "      const buttonEl =\n",
              "        document.querySelector('#df-9cf7a5a1-5fc8-4d71-b02e-a5eaf175b002 button.colab-df-convert');\n",
              "      buttonEl.style.display =\n",
              "        google.colab.kernel.accessAllowed ? 'block' : 'none';\n",
              "\n",
              "      async function convertToInteractive(key) {\n",
              "        const element = document.querySelector('#df-9cf7a5a1-5fc8-4d71-b02e-a5eaf175b002');\n",
              "        const dataTable =\n",
              "          await google.colab.kernel.invokeFunction('convertToInteractive',\n",
              "                                                    [key], {});\n",
              "        if (!dataTable) return;\n",
              "\n",
              "        const docLinkHtml = 'Like what you see? Visit the ' +\n",
              "          '<a target=\"_blank\" href=https://colab.research.google.com/notebooks/data_table.ipynb>data table notebook</a>'\n",
              "          + ' to learn more about interactive tables.';\n",
              "        element.innerHTML = '';\n",
              "        dataTable['output_type'] = 'display_data';\n",
              "        await google.colab.output.renderOutput(dataTable, element);\n",
              "        const docLink = document.createElement('div');\n",
              "        docLink.innerHTML = docLinkHtml;\n",
              "        element.appendChild(docLink);\n",
              "      }\n",
              "    </script>\n",
              "  </div>\n",
              "\n",
              "    </div>\n",
              "  </div>\n"
            ],
            "application/vnd.google.colaboratory.intrinsic+json": {
              "type": "dataframe",
              "variable_name": "vec_2",
              "summary": "{\n  \"name\": \"vec_2\",\n  \"rows\": 1,\n  \"fields\": [\n    {\n      \"column\": \"12\",\n      \"properties\": {\n        \"dtype\": \"number\",\n        \"std\": null,\n        \"min\": 0.3234074447102034,\n        \"max\": 0.3234074447102034,\n        \"num_unique_values\": 1,\n        \"samples\": [\n          0.3234074447102034\n        ],\n        \"semantic_type\": \"\",\n        \"description\": \"\"\n      }\n    },\n    {\n      \"column\": \"followers\",\n      \"properties\": {\n        \"dtype\": \"number\",\n        \"std\": null,\n        \"min\": 0.4228768973265037,\n        \"max\": 0.4228768973265037,\n        \"num_unique_values\": 1,\n        \"samples\": [\n          0.4228768973265037\n        ],\n        \"semantic_type\": \"\",\n        \"description\": \"\"\n      }\n    },\n    {\n      \"column\": \"important\",\n      \"properties\": {\n        \"dtype\": \"number\",\n        \"std\": null,\n        \"min\": 0.27416740071402984,\n        \"max\": 0.27416740071402984,\n        \"num_unique_values\": 1,\n        \"samples\": [\n          0.27416740071402984\n        ],\n        \"semantic_type\": \"\",\n        \"description\": \"\"\n      }\n    },\n    {\n      \"column\": \"interview\",\n      \"properties\": {\n        \"dtype\": \"number\",\n        \"std\": null,\n        \"min\": 0.37450289793962754,\n        \"max\": 0.37450289793962754,\n        \"num_unique_values\": 1,\n        \"samples\": [\n          0.37450289793962754\n        ],\n        \"semantic_type\": \"\",\n        \"description\": \"\"\n      }\n    },\n    {\n      \"column\": \"listen\",\n      \"properties\": {\n        \"dtype\": \"number\",\n        \"std\": null,\n        \"min\": 0.33446835439405687,\n        \"max\": 0.33446835439405687,\n        \"num_unique_values\": 1,\n        \"samples\": [\n          0.33446835439405687\n        ],\n        \"semantic_type\": \"\",\n        \"description\": \"\"\n      }\n    },\n    {\n      \"column\": \"mins\",\n      \"properties\": {\n        \"dtype\": \"number\",\n        \"std\": null,\n        \"min\": 0.43012156211682084,\n        \"max\": 0.43012156211682084,\n        \"num_unique_values\": 1,\n        \"samples\": [\n          0.43012156211682084\n        ],\n        \"semantic_type\": \"\",\n        \"description\": \"\"\n      }\n    },\n    {\n      \"column\": \"please\",\n      \"properties\": {\n        \"dtype\": \"number\",\n        \"std\": null,\n        \"min\": 0.2073592552599513,\n        \"max\": 0.2073592552599513,\n        \"num_unique_values\": 1,\n        \"samples\": [\n          0.2073592552599513\n        ],\n        \"semantic_type\": \"\",\n        \"description\": \"\"\n      }\n    },\n    {\n      \"column\": \"rt\",\n      \"properties\": {\n        \"dtype\": \"number\",\n        \"std\": null,\n        \"min\": 0.3510339300850099,\n        \"max\": 0.3510339300850099,\n        \"num_unique_values\": 1,\n        \"samples\": [\n          0.3510339300850099\n        ],\n        \"semantic_type\": \"\",\n        \"description\": \"\"\n      }\n    },\n    {\n      \"column\": \"time\",\n      \"properties\": {\n        \"dtype\": \"number\",\n        \"std\": null,\n        \"min\": 0.19510574346309814,\n        \"max\": 0.19510574346309814,\n        \"num_unique_values\": 1,\n        \"samples\": [\n          0.19510574346309814\n        ],\n        \"semantic_type\": \"\",\n        \"description\": \"\"\n      }\n    }\n  ]\n}"
            }
          },
          "metadata": {},
          "execution_count": 29
        }
      ]
    },
    {
      "cell_type": "code",
      "source": [
        "train.iloc[ind_1]['OriginalTweet']"
      ],
      "metadata": {
        "colab": {
          "base_uri": "https://localhost:8080/",
          "height": 35
        },
        "id": "HJPq0g30YyMC",
        "outputId": "08be18a8-7782-43c5-8dce-8bde89f1a0d3"
      },
      "execution_count": null,
      "outputs": [
        {
          "output_type": "execute_result",
          "data": {
            "text/plain": [
              "\"Can I have 12 mins of your time to PLEASE LISTEN to this interview as IT'S SO IMPORTANT can my followers RT. https://t.co/7FDqsKedFP\""
            ],
            "application/vnd.google.colaboratory.intrinsic+json": {
              "type": "string"
            }
          },
          "metadata": {},
          "execution_count": 30
        }
      ]
    },
    {
      "cell_type": "code",
      "source": [
        "#токен с самым большим весом\n",
        "print(vec_2.idxmax(axis = 1))\n",
        "print(vec_2.max(axis = 1))"
      ],
      "metadata": {
        "colab": {
          "base_uri": "https://localhost:8080/"
        },
        "id": "HvUkLlazV0kZ",
        "outputId": "52a38ba5-53c8-47fb-9db4-d2cc46a27daf"
      },
      "execution_count": null,
      "outputs": [
        {
          "output_type": "stream",
          "name": "stdout",
          "text": [
            "18673    mins\n",
            "dtype: object\n",
            "18673    0.430122\n",
            "dtype: float64\n"
          ]
        }
      ]
    },
    {
      "cell_type": "markdown",
      "metadata": {
        "id": "JTv9ST2_U6NA"
      },
      "source": [
        "**Ответ:**  В ОБЩЕМ Я ИСКРЕННЕ НЕ ПОНИМАЮ, ПОЧЕМУ МНЕ НЕ ВЫВОДИТСЯ ТВИТ, КОТОРЫЙ Я ХОЧУ, ВОЗМОЖНО, У МЕНЯ ЗАМЫЛИЛСЯ ГЛАЗ И Я НЕ ВИЖУ ОШИБКУ В КОДЕ. НО ИДЕЯ БЫЛА В ТОМ, ЧТО ПРО ДОКТОРОВ ГОВОРЯТ ТОЛЬКО ХОРОШЕЕ!"
      ]
    },
    {
      "cell_type": "markdown",
      "metadata": {
        "id": "JVEuZm8BHms6"
      },
      "source": [
        "## Задание 4 Обучение первых моделей (1 балл)"
      ]
    },
    {
      "cell_type": "markdown",
      "metadata": {
        "id": "JADkO3sfXdOG"
      },
      "source": [
        "Примените оба векторайзера для получения матриц с признаками текстов.  Выделите целевую переменную."
      ]
    },
    {
      "cell_type": "code",
      "execution_count": null,
      "metadata": {
        "id": "DguoiXhCX2oN"
      },
      "outputs": [],
      "source": [
        "X_train = train.loc[:, train.columns != 'Sentiment']\n",
        "y_train = train['Sentiment']\n",
        "\n",
        "X_test = test.loc[:, test.columns != 'Sentiment']\n",
        "y_test = test['Sentiment']\n",
        "\n",
        "#применяем CountVectorizer\n",
        "X_train_cv = cv.fit_transform(X_train['OriginalTweet'])\n",
        "X_test_cv = cv.transform(X_test['OriginalTweet'])\n",
        "\n",
        "#применяем TfidfVectorizer\n",
        "X_train_tv = tv.fit_transform(X_train['OriginalTweet'])\n",
        "X_test_tv = tv.transform(X_test['OriginalTweet'])"
      ]
    },
    {
      "cell_type": "markdown",
      "metadata": {
        "id": "_FX1KSOfYSx4"
      },
      "source": [
        "Обучите логистическую регрессию на векторах из обоих векторайзеров. Посчитайте долю правильных ответов на обучающих и тестовых данных. Какой векторайзер показал лучший результат? Что можно сказать о моделях?"
      ]
    },
    {
      "cell_type": "code",
      "execution_count": null,
      "metadata": {
        "id": "-Tb3eh8UXJ6v",
        "colab": {
          "base_uri": "https://localhost:8080/"
        },
        "outputId": "24f7843f-f2b9-4e73-941a-56c08a02bd04"
      },
      "outputs": [
        {
          "output_type": "stream",
          "name": "stdout",
          "text": [
            "Доля правильных ответов (accuracy) на обучающих данных = 0.9830841520717643\n",
            "Доля правильных ответов (accuracy) на тестовых данных = 0.866155072752641\n"
          ]
        }
      ],
      "source": [
        "from sklearn.linear_model import LogisticRegression\n",
        "from sklearn.metrics import accuracy_score\n",
        "\n",
        "log_reg = LogisticRegression()\n",
        "\n",
        "#обучаем логистическую регрессию на векторах из CountVectorizer\n",
        "log_reg.fit(X_train_cv, y_train)\n",
        "y_train_pred_cv = log_reg.predict(X_train_cv)\n",
        "y_test_pred_cv = log_reg.predict(X_test_cv)\n",
        "print(f\"Доля правильных ответов (accuracy) на обучающих данных = {accuracy_score(y_train, y_train_pred_cv)}\")\n",
        "print(f\"Доля правильных ответов (accuracy) на тестовых данных = {accuracy_score(y_test, y_test_pred_cv)}\")"
      ]
    },
    {
      "cell_type": "code",
      "source": [
        "#обучаем лог. регрессию на векторах из TfidfVectorizer\n",
        "log_reg.fit(X_train_tv, y_train)\n",
        "y_train_pred_tv = log_reg.predict(X_train_tv)\n",
        "y_test_pred_tv = log_reg.predict(X_test_tv)\n",
        "print(f\"Доля правильных ответов (accuracy) на обучающих данных = {accuracy_score(y_train, y_train_pred_tv)}\")\n",
        "print(f\"Доля правильных ответов (accuracy) на тестовых данных = {accuracy_score(y_test, y_test_pred_tv)}\")"
      ],
      "metadata": {
        "id": "JnStc4JGq2-E",
        "colab": {
          "base_uri": "https://localhost:8080/"
        },
        "outputId": "e681a8e7-0cab-4656-c88b-57b379af2b5f"
      },
      "execution_count": null,
      "outputs": [
        {
          "output_type": "stream",
          "name": "stdout",
          "text": [
            "Доля правильных ответов (accuracy) на обучающих данных = 0.924647586501495\n",
            "Доля правильных ответов (accuracy) на тестовых данных = 0.85280047837353\n"
          ]
        }
      ]
    },
    {
      "cell_type": "markdown",
      "metadata": {
        "id": "8y_wO7rCmv7K"
      },
      "source": [
        "**Ответ:** векторайзер CountVectorizer (cv) имеет долю правильных ответов выше, чем TfidfVectorizer (tv). Отмечу, что в случае с cv accuracy на train стремиится к 1 и разница между accuracy на train и test больше, чем в случае с tv, что может говорить о переобучении 1 модели с cv."
      ]
    },
    {
      "cell_type": "markdown",
      "metadata": {
        "id": "rSOR1i3mjrys"
      },
      "source": [
        "## Задание 5 Стемминг (0.5 балла)"
      ]
    },
    {
      "cell_type": "markdown",
      "metadata": {
        "id": "i6ONBWNPjuq-"
      },
      "source": [
        "Для уменьшения словаря можно использовать стемминг.\n",
        "\n",
        "Модифицируйте написанный токенайзер, добавив в него стемминг с использованием SnowballStemmer. Обучите Count- и Tfidf- векторайзеры. Как изменился размер словаря?"
      ]
    },
    {
      "cell_type": "code",
      "execution_count": null,
      "metadata": {
        "id": "oVfA2-iMkQBb"
      },
      "outputs": [],
      "source": [
        "from nltk.stem.snowball import SnowballStemmer\n",
        "\n",
        "def custom_stem_tokenizer(text):\n",
        "  text_lower = text.lower()\n",
        "\n",
        "  tokens = set(TweetTokenizer().tokenize(text_lower))\n",
        "\n",
        "  stop_words_2 = stopwords.words('english')\n",
        "  for word in stop_words_2:\n",
        "    if word in tokens:\n",
        "      tokens.discard(word)\n",
        "\n",
        "  for punct in punctuation:\n",
        "    if punct in tokens:\n",
        "      tokens.discard(punct)\n",
        "\n",
        "  for token in list(tokens):\n",
        "    if (len(token) == 1 and ord(token) >= 128) or (token[0:12] == 'https://t.co'):\n",
        "      tokens.discard(token)\n",
        "\n",
        "  tokens = list(tokens)\n",
        "\n",
        "  #добавляем стемминг\n",
        "  stemmer = SnowballStemmer('english')\n",
        "  tokens_2 = []\n",
        "  for word in tokens:\n",
        "    tokens_2.append(stemmer.stem(word))\n",
        "\n",
        "  return tokens_2"
      ]
    },
    {
      "cell_type": "code",
      "execution_count": null,
      "metadata": {
        "id": "9QmrjYtqnlPd",
        "colab": {
          "base_uri": "https://localhost:8080/"
        },
        "outputId": "da2d0719-b050-41f8-e4d8-c542e082b996"
      },
      "outputs": [
        {
          "output_type": "execute_result",
          "data": {
            "text/plain": [
              "['text', '#sampletext', 'sampl', 'word', '@sample_text', 'ad', 'stem', 'check']"
            ]
          },
          "metadata": {},
          "execution_count": 36
        }
      ],
      "source": [
        "custom_stem_tokenizer('This is sample text!!!! @Sample_text I, \\x92\\x92 https://t.co/sample  #sampletext adding more words to check stemming')"
      ]
    },
    {
      "cell_type": "code",
      "execution_count": null,
      "metadata": {
        "id": "zAvUTmaplzOS",
        "colab": {
          "base_uri": "https://localhost:8080/"
        },
        "outputId": "9b722fe4-dd09-478b-8c88-7ec252f92fd5"
      },
      "outputs": [
        {
          "output_type": "stream",
          "name": "stdout",
          "text": [
            "36652\n"
          ]
        }
      ],
      "source": [
        "#обучаю CountVectorizer\n",
        "cv = CountVectorizer(tokenizer = custom_stem_tokenizer)\n",
        "ot_cv = cv.fit_transform(train['OriginalTweet'])\n",
        "print(len(cv.vocabulary_))"
      ]
    },
    {
      "cell_type": "code",
      "source": [
        "#обучаю TfidfVectorizer\n",
        "tv = TfidfVectorizer(tokenizer = custom_stem_tokenizer)\n",
        "ot_tv = tv.fit_transform(train['OriginalTweet'])"
      ],
      "metadata": {
        "id": "k4-hXEMLuASE"
      },
      "execution_count": null,
      "outputs": []
    },
    {
      "cell_type": "markdown",
      "metadata": {
        "id": "Oyzs5TaAoHP6"
      },
      "source": [
        "**Ответ:** словарь уменьшился примерно на 20% по сравнению с последним."
      ]
    },
    {
      "cell_type": "markdown",
      "metadata": {
        "id": "1OkncHI8oRmd"
      },
      "source": [
        "Обучите логистическую регрессию с использованием обоих векторайзеров. Изменилось ли качество? Есть ли смысл применять стемминг?"
      ]
    },
    {
      "cell_type": "code",
      "execution_count": null,
      "metadata": {
        "id": "ykZJPphEoZ5W",
        "colab": {
          "base_uri": "https://localhost:8080/"
        },
        "outputId": "3bb5c29e-b942-4fd4-f3cc-1e2d9d5a6011"
      },
      "outputs": [
        {
          "output_type": "stream",
          "name": "stdout",
          "text": [
            "Доля правильных ответов (accuracy) на обучающих данных = 0.9692439128577531\n",
            "Доля правильных ответов (accuracy) на тестовых данных = 0.8666533785130556\n"
          ]
        }
      ],
      "source": [
        "#применяем CountVectorizer\n",
        "X_train_cv = cv.fit_transform(X_train['OriginalTweet'])\n",
        "X_test_cv = cv.transform(X_test['OriginalTweet'])\n",
        "\n",
        "#обучаю лог. регрессию с использованием CountVectorizer\n",
        "log_reg.fit(X_train_cv, y_train)\n",
        "y_train_pred_cv = log_reg.predict(X_train_cv)\n",
        "y_test_pred_cv = log_reg.predict(X_test_cv)\n",
        "print(f\"Доля правильных ответов (accuracy) на обучающих данных = {accuracy_score(y_train, y_train_pred_cv)}\")\n",
        "print(f\"Доля правильных ответов (accuracy) на тестовых данных = {accuracy_score(y_test, y_test_pred_cv)}\")"
      ]
    },
    {
      "cell_type": "code",
      "source": [
        "#применяем TfidfVectorizer\n",
        "X_train_tv = tv.fit_transform(X_train['OriginalTweet'])\n",
        "X_test_tv = tv.transform(X_test['OriginalTweet'])\n",
        "\n",
        "#обучаем лог. регрессию на векторах из TfidfVectorizer\n",
        "log_reg.fit(X_train_tv, y_train)\n",
        "y_train_pred_tv = log_reg.predict(X_train_tv)\n",
        "y_test_pred_tv = log_reg.predict(X_test_tv)\n",
        "print(f\"Доля правильных ответов (accuracy) на обучающих данных = {accuracy_score(y_train, y_train_pred_tv)}\")\n",
        "print(f\"Доля правильных ответов (accuracy) на тестовых данных = {accuracy_score(y_test, y_test_pred_tv)}\")"
      ],
      "metadata": {
        "id": "iEa0_NcDvJTt",
        "colab": {
          "base_uri": "https://localhost:8080/"
        },
        "outputId": "166ab044-c339-4b15-bfdc-f3367356a3c4"
      },
      "execution_count": null,
      "outputs": [
        {
          "output_type": "stream",
          "name": "stdout",
          "text": [
            "Доля правильных ответов (accuracy) на обучающих данных = 0.9156770610850065\n",
            "Доля правильных ответов (accuracy) на тестовых данных = 0.8567869244568467\n"
          ]
        }
      ]
    },
    {
      "cell_type": "markdown",
      "metadata": {
        "id": "bCRlrODro0h8"
      },
      "source": [
        "**Ответ:** качество стало чуть хуже на обучающих данных и оно чуть выше стало на тестовых. В прицнипе такое мизирное изменение не дало супер эффективности, поэтому, скорее всего, нет смысла применять стемминг."
      ]
    },
    {
      "cell_type": "markdown",
      "metadata": {
        "id": "hYWGQNEDqLC-"
      },
      "source": [
        "## Задание  6 Работа с частотами (1.5 балла)"
      ]
    },
    {
      "cell_type": "markdown",
      "metadata": {
        "id": "8Hq-tl5mqUSn"
      },
      "source": [
        "Еще один способ уменьшить количество признаков - это использовать параметры min_df и max_df при построении векторайзера  эти параметры помогают ограничить требуемую частоту встречаемости токена в документах.\n",
        "\n",
        "По умолчанию берутся все токены, которые встретились хотя бы один раз.\n",
        "\n"
      ]
    },
    {
      "cell_type": "markdown",
      "metadata": {
        "id": "m1SiD4DE3WZ2"
      },
      "source": [
        "Подберите max_df такой, что размер словаря будет 36651 (на 1 меньше, чем было). Почему параметр получился такой большой/маленький?"
      ]
    },
    {
      "cell_type": "code",
      "source": [
        "cv_df = CountVectorizer(tokenizer=custom_stem_tokenizer,\n",
        "                        max_df=8000\n",
        "                        ).fit(\n",
        "                            train['OriginalTweet']\n",
        "                            )\n",
        "print(len(cv_df.vocabulary_))"
      ],
      "metadata": {
        "id": "o3YLb8PViExb",
        "colab": {
          "base_uri": "https://localhost:8080/"
        },
        "outputId": "cb0fb23f-9d60-46a7-9eff-f7da9548a295"
      },
      "execution_count": null,
      "outputs": [
        {
          "output_type": "stream",
          "name": "stdout",
          "text": [
            "36651\n"
          ]
        }
      ]
    },
    {
      "cell_type": "code",
      "source": [
        "X_train_cv_max = cv_df.fit_transform(X_train['OriginalTweet'])\n",
        "X_test_cv_max = cv_df.transform(X_test['OriginalTweet'])\n",
        "\n",
        "log_reg.fit(X_train_cv_max, y_train)\n",
        "\n",
        "y_train_pred_cv_max = log_reg.predict(X_train_cv_max)\n",
        "y_test_pred_cv_max = log_reg.predict(X_test_cv_max)\n",
        "\n",
        "print(f\"Доля правильных ответов (accuracy) на обучающих данных = {accuracy_score(y_train, y_train_pred_cv_max)}\")\n",
        "print(f\"Доля правильных ответов (accuracy) на тестовых данных = {accuracy_score(y_test, y_test_pred_cv_max)}\")"
      ],
      "metadata": {
        "id": "tyEpkJUkjnuK",
        "colab": {
          "base_uri": "https://localhost:8080/"
        },
        "outputId": "55d98949-b471-4d52-e8bd-c5869ed70dbf"
      },
      "execution_count": null,
      "outputs": [
        {
          "output_type": "stream",
          "name": "stdout",
          "text": [
            "Доля правильных ответов (accuracy) на обучающих данных = 0.9694147800085433\n",
            "Доля правильных ответов (accuracy) на тестовых данных = 0.866155072752641\n"
          ]
        }
      ]
    },
    {
      "cell_type": "markdown",
      "metadata": {
        "id": "UdZYoGZR4UsA"
      },
      "source": [
        "**Ответ:** относительно размера словаря max_df небольшой. Accuracy на train увеличилось на 0.002, accuracy на test уменьшилось на 0.005."
      ]
    },
    {
      "cell_type": "markdown",
      "metadata": {
        "id": "_gRIUaB1u32f"
      },
      "source": [
        "Подберите min_df (используйте дефолтное значение max_df) в CountVectorizer таким образом, чтобы размер словаря был 3700 токенов (при использовании токенайзера со стеммингом), а качество осталось таким же, как и было. Что можно сказать о результатах?"
      ]
    },
    {
      "cell_type": "code",
      "execution_count": null,
      "metadata": {
        "id": "kSnMJkn9XmsT",
        "colab": {
          "base_uri": "https://localhost:8080/"
        },
        "outputId": "a41bda7c-609e-4707-e12a-33f7441f499e"
      },
      "outputs": [
        {
          "output_type": "stream",
          "name": "stdout",
          "text": [
            "3700\n"
          ]
        }
      ],
      "source": [
        "cv_df = CountVectorizer(tokenizer=custom_stem_tokenizer,\n",
        "                        min_df=11\n",
        "                        ).fit(\n",
        "                            train['OriginalTweet']\n",
        "                            )\n",
        "print(len(cv_df.vocabulary_))"
      ]
    },
    {
      "cell_type": "code",
      "source": [
        "X_train_cv_min = cv_df.fit_transform(X_train['OriginalTweet'])\n",
        "X_test_cv_min = cv_df.transform(X_test['OriginalTweet'])\n",
        "\n",
        "log_reg.fit(X_train_cv_min, y_train)\n",
        "\n",
        "y_train_pred_cv_min = log_reg.predict(X_train_cv_min)\n",
        "y_test_pred_cv_min = log_reg.predict(X_test_cv_min)\n",
        "\n",
        "print(f\"Доля правильных ответов (accuracy) на обучающих данных = {accuracy_score(y_train, y_train_pred_cv_min)}\")\n",
        "print(f\"Доля правильных ответов (accuracy) на тестовых данных = {accuracy_score(y_test, y_test_pred_cv_min)}\")"
      ],
      "metadata": {
        "id": "f35H13wuNp1s",
        "colab": {
          "base_uri": "https://localhost:8080/"
        },
        "outputId": "f69f62e3-feb1-427f-885c-5c23c6a07153"
      },
      "execution_count": null,
      "outputs": [
        {
          "output_type": "stream",
          "name": "stdout",
          "text": [
            "Доля правильных ответов (accuracy) на обучающих данных = 0.9260999572832123\n",
            "Доля правильных ответов (accuracy) на тестовых данных = 0.8650588000797289\n"
          ]
        }
      ]
    },
    {
      "cell_type": "markdown",
      "metadata": {
        "id": "3fGYpUIZx0fk"
      },
      "source": [
        "**Ответ:** accuracy на train уменьшилось; accuracy на test тоже уменьшилось, но не очень сильно."
      ]
    },
    {
      "cell_type": "markdown",
      "source": [
        "В предыдущих заданиях признаки не скалировались. Отскалируйте данные (при словаре размера 3.7 тысяч, векторизованные CountVectorizer), обучите логистическую регрессию, посмотрите качество и выведите `berplot` содержащий по 10 токенов, с наибольшим по модулю положительными/отрицательными весами. Что можно сказать об этих токенах?"
      ],
      "metadata": {
        "id": "Gx_h_-inKbBl"
      }
    },
    {
      "cell_type": "code",
      "source": [
        "from sklearn.preprocessing import StandardScaler\n",
        "\n",
        "scaler = StandardScaler(with_mean=False)\n",
        "\n",
        "train_delete = pd.DataFrame(X_train_cv_min.toarray(), columns = cv_df.get_feature_names_out())\n",
        "test_delete = pd.DataFrame(X_test_cv_min.toarray(), columns = cv_df.get_feature_names_out())\n",
        "\n",
        "X_train_cv_min_stand = scaler.fit_transform(train_delete)\n",
        "X_test_cv_min_stand = scaler.transform(test_delete)\n",
        "\n",
        "log_reg.fit(X_train_cv_min_stand, y_train)\n",
        "\n",
        "y_train_pred_stand = log_reg.predict(X_train_cv_min_stand)\n",
        "y_test_pred_stand = log_reg.predict(X_test_cv_min_stand)\n",
        "\n",
        "print(f\"Доля правильных ответов (accuracy) на обучающих данных = {accuracy_score(y_train, y_train_pred_stand)}\")\n",
        "print(f\"Доля правильных ответов (accuracy) на тестовых данных = {accuracy_score(y_test, y_test_pred_stand)}\")"
      ],
      "metadata": {
        "id": "KBATXJX6LG9q",
        "colab": {
          "base_uri": "https://localhost:8080/"
        },
        "outputId": "264315ae-5967-49c7-fe88-7c241e91ef5e"
      },
      "execution_count": null,
      "outputs": [
        {
          "output_type": "stream",
          "name": "stdout",
          "text": [
            "Доля правильных ответов (accuracy) на обучающих данных = 0.9396411789833404\n",
            "Доля правильных ответов (accuracy) на тестовых данных = 0.8424357185569065\n"
          ]
        }
      ]
    },
    {
      "cell_type": "code",
      "source": [
        "weights = abs(log_reg.coef_[0])\n",
        "feature_names = cv_df.get_feature_names_out()\n",
        "top_weights = np.sort(weights)[-10:]\n",
        "top_weights_index = np.argsort(weights)[-10:]\n",
        "top_weights_name = [feature_names[name] for name in top_weights_index]\n",
        "\n",
        "sns.barplot(y=top_weights, x = top_weights_name, color = 'purple');"
      ],
      "metadata": {
        "id": "nKMF5R813iri",
        "colab": {
          "base_uri": "https://localhost:8080/",
          "height": 430
        },
        "outputId": "2b8e2dee-e459-472b-a4ef-2dee8415dfe8"
      },
      "execution_count": null,
      "outputs": [
        {
          "output_type": "display_data",
          "data": {
            "text/plain": [
              "<Figure size 640x480 with 1 Axes>"
            ],
            "image/png": "[encoded data removed]"
          },
          "metadata": {}
        }
      ]
    },
    {
      "cell_type": "markdown",
      "source": [
        "**Ответ:** наибольший вес имеет токен 'crisi', который видимо из-за стемминга был сокращён. Он является самым важным. Наименьший вес имеет токен 'great', который является наименее важным токеном. Прочитав, все токены понимаем, что по ним можно определить окрас твита (положительный/негативный)."
      ],
      "metadata": {
        "id": "ThcEfzY1LHET"
      }
    },
    {
      "cell_type": "markdown",
      "metadata": {
        "id": "ktJVOdrIHq7B"
      },
      "source": [
        "## Задание 7 Другие признаки (1.5 балла)"
      ]
    },
    {
      "cell_type": "markdown",
      "metadata": {
        "id": "Yt3jRCZ2H0Og"
      },
      "source": [
        "Мы были сконцентрированы на работе с текстами твиттов и не использовали другие признаки - имена пользователя, дату и местоположение"
      ]
    },
    {
      "cell_type": "markdown",
      "metadata": {
        "id": "52wjewCCo_di"
      },
      "source": [
        "Изучите признаки UserName и ScreenName. полезны ли они? Если полезны, то закодируйте их, добавьте к матрице с отскалированными признаками, обучите логистическую регрессию, замерьте качество."
      ]
    },
    {
      "cell_type": "code",
      "execution_count": null,
      "metadata": {
        "id": "63thouYZptj6",
        "colab": {
          "base_uri": "https://localhost:8080/"
        },
        "outputId": "dd220029-89ca-4fb2-f434-ea7298229d26"
      },
      "outputs": [
        {
          "output_type": "execute_result",
          "data": {
            "text/plain": [
              "1"
            ]
          },
          "metadata": {},
          "execution_count": 47
        }
      ],
      "source": [
        "max(train['UserName'].value_counts())"
      ]
    },
    {
      "cell_type": "code",
      "source": [
        "max(train['ScreenName'].value_counts())"
      ],
      "metadata": {
        "id": "w4T0_b9Azo1g",
        "colab": {
          "base_uri": "https://localhost:8080/"
        },
        "outputId": "764766f3-6b6f-43ad-e096-96dd86d8d6d8"
      },
      "execution_count": null,
      "outputs": [
        {
          "output_type": "execute_result",
          "data": {
            "text/plain": [
              "1"
            ]
          },
          "metadata": {},
          "execution_count": 48
        }
      ]
    },
    {
      "cell_type": "code",
      "source": [
        "train['UserName']"
      ],
      "metadata": {
        "colab": {
          "base_uri": "https://localhost:8080/"
        },
        "id": "7VJ-5TGliCLt",
        "outputId": "f045f7f9-992d-423b-ef12-33efbb804476"
      },
      "execution_count": null,
      "outputs": [
        {
          "output_type": "execute_result",
          "data": {
            "text/plain": [
              "25621    35178\n",
              "30135    40819\n",
              "28899    39249\n",
              "5989     11068\n",
              "4367      9109\n",
              "         ...  \n",
              "20757    29120\n",
              "32103    43291\n",
              "30403    41159\n",
              "21243    29702\n",
              "2732      7104\n",
              "Name: UserName, Length: 23410, dtype: int64"
            ]
          },
          "metadata": {},
          "execution_count": 49
        }
      ]
    },
    {
      "cell_type": "code",
      "source": [
        "train['ScreenName']"
      ],
      "metadata": {
        "colab": {
          "base_uri": "https://localhost:8080/"
        },
        "id": "j39sEjraiEyf",
        "outputId": "d853e17c-292e-492d-9413-a28bc9057f76"
      },
      "execution_count": null,
      "outputs": [
        {
          "output_type": "execute_result",
          "data": {
            "text/plain": [
              "25621    80130\n",
              "30135    85771\n",
              "28899    84201\n",
              "5989     56020\n",
              "4367     54061\n",
              "         ...  \n",
              "20757    74072\n",
              "32103    88243\n",
              "30403    86111\n",
              "21243    74654\n",
              "2732     52056\n",
              "Name: ScreenName, Length: 23410, dtype: int64"
            ]
          },
          "metadata": {},
          "execution_count": 50
        }
      ]
    },
    {
      "cell_type": "markdown",
      "metadata": {
        "id": "r8_qR-gnpT3a"
      },
      "source": [
        "**Ответ:** видим, что у UserName и ScreenName уникальные значения, состоящие из цифр, что никакой полезности при анализе не принесёт. С данными признаками нам делать нечего :-("
      ]
    },
    {
      "cell_type": "markdown",
      "metadata": {
        "id": "ythEcFSkt7y3"
      },
      "source": [
        "Изучите признак TweetAt в обучающей выборке: преобразуйте его к типу datetime и нарисуйте его гистограмму с разделением по цвету на основе целевой переменной. Полезен ли он? Если полезен, то закодируйте его, добавьте к матрице с отскалированными признаками, обучите логистическую регрессию, замерьте качество."
      ]
    },
    {
      "cell_type": "code",
      "source": [
        "#преобразование признакак TweetAt к типу datetime\n",
        "train['TweetAt'] = pd.to_datetime(train['TweetAt'], format = '%d-%m-%Y')\n",
        "train['TweetAt']"
      ],
      "metadata": {
        "id": "Lxb_k0JLirNv",
        "colab": {
          "base_uri": "https://localhost:8080/"
        },
        "outputId": "5637839f-c765-42ce-a440-ed55c61bbd05"
      },
      "execution_count": null,
      "outputs": [
        {
          "output_type": "execute_result",
          "data": {
            "text/plain": [
              "25621   2020-04-06\n",
              "30135   2020-04-10\n",
              "28899   2020-04-09\n",
              "5989    2020-03-19\n",
              "4367    2020-03-18\n",
              "           ...    \n",
              "20757   2020-03-31\n",
              "32103   2020-04-13\n",
              "30403   2020-04-10\n",
              "21243   2020-04-01\n",
              "2732    2020-03-18\n",
              "Name: TweetAt, Length: 23410, dtype: datetime64[ns]"
            ]
          },
          "metadata": {},
          "execution_count": 51
        }
      ]
    },
    {
      "cell_type": "code",
      "source": [
        "sns.displot(train, x='TweetAt', hue='Sentiment')\n",
        "plt.xticks(rotation=50);"
      ],
      "metadata": {
        "id": "iGo4v1VIAfit",
        "colab": {
          "base_uri": "https://localhost:8080/",
          "height": 563
        },
        "outputId": "8bac006e-f482-447d-fc9b-fd50a1e848cc"
      },
      "execution_count": null,
      "outputs": [
        {
          "output_type": "display_data",
          "data": {
            "text/plain": [
              "<Figure size 582.736x500 with 1 Axes>"
            ],
            "image/png": "[encoded data removed]"
          },
          "metadata": {}
        }
      ]
    },
    {
      "cell_type": "markdown",
      "metadata": {
        "id": "4IdLBdpQxM-G"
      },
      "source": [
        "**Ответ:** видим, что большинство твитов с положительным окрасом, только в три даты мы наблюдаем большинство негативных твитов. Так как большинство твитов с положительным окрасом, нам нет пользы анализировать данный признак.\n",
        "\n"
      ]
    },
    {
      "cell_type": "markdown",
      "source": [
        "Поработайте с признаком Location в обучающей выборке. Сколько уникальных значений?"
      ],
      "metadata": {
        "id": "r2JtRPhNP6qx"
      }
    },
    {
      "cell_type": "code",
      "source": [
        "len(train['Location'].unique())"
      ],
      "metadata": {
        "id": "xYQZQ1FRNpoe",
        "colab": {
          "base_uri": "https://localhost:8080/"
        },
        "outputId": "ca2c0e7d-d69b-4270-d6fe-260d14b4ba2e"
      },
      "execution_count": null,
      "outputs": [
        {
          "output_type": "execute_result",
          "data": {
            "text/plain": [
              "7949"
            ]
          },
          "metadata": {},
          "execution_count": 53
        }
      ]
    },
    {
      "cell_type": "markdown",
      "source": [
        "7949 уникальных значений"
      ],
      "metadata": {
        "id": "a5sVCwA9j0E0"
      }
    },
    {
      "cell_type": "markdown",
      "source": [
        "Постройте гистограмму топ-10 по популярности местоположений (исключая Unknown)"
      ],
      "metadata": {
        "id": "6k4JwpRTQISa"
      }
    },
    {
      "cell_type": "code",
      "source": [
        "location_without_unknown= train[train['Location'] != 'Unknown']\n",
        "location_unique = location_without_unknown['Location'].unique()\n",
        "location_value = location_without_unknown['Location'].value_counts()\n",
        "sns.barplot(y=location_unique[:10], x = location_value[:10], color='green');"
      ],
      "metadata": {
        "id": "J91YkhegJ0mz",
        "colab": {
          "base_uri": "https://localhost:8080/",
          "height": 449
        },
        "outputId": "6982ec9d-c7b3-449a-bf24-8d3d12a9c184"
      },
      "execution_count": null,
      "outputs": [
        {
          "output_type": "display_data",
          "data": {
            "text/plain": [
              "<Figure size 640x480 with 1 Axes>"
            ],
            "image/png": "[encoded data removed]"
          },
          "metadata": {}
        }
      ]
    }
  ],
  "metadata": {
    "colab": {
      "provenance": []
    },
    "kernelspec": {
      "display_name": "Python 3",
      "name": "python3"
    },
    "language_info": {
      "name": "python"
    }
  },
  "nbformat": 4,
  "nbformat_minor": 0
}